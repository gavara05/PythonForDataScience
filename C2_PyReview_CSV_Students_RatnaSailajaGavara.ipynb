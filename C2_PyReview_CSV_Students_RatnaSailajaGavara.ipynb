{
 "cells": [
  {
   "cell_type": "markdown",
   "metadata": {},
   "source": [
    "## Class 2 Python for Data Science\n",
    "### Python Dictionary\n",
    "### List Comprehension\n",
    "### Reading CSV file and fix data errors"
   ]
  },
  {
   "cell_type": "markdown",
   "metadata": {},
   "source": [
    "One of Python's built−in datatypes is the dictionary, which defines one−to−one relationships between keys and values.\n",
    "\n",
    "\"Like lists dictionaries can easily be changed, can be shrunk and grown ad libitum at run time. They shrink and grow without the necessity of making copies. Dictionaries can be contained in lists and vice versa. But what's the difference between lists and dictionaries? Lists are ordered sets of objects, whereas dictionaries are <b>unordered sets.</b> But the main difference is that items in dictionaries are accessed via keys and not via their position.\"\n",
    "\n",
    "<br>\n",
    "A pair of braces creates an empty dictionary: {}. Placing a comma-separated list of key:value pairs within the braces adds initial key: value pairs to the dictionary; this is also the way dictionaries are written on output."
   ]
  },
  {
   "cell_type": "code",
   "execution_count": 274,
   "metadata": {},
   "outputs": [
    {
     "data": {
      "text/plain": [
       "{'fruit': [75, 'orange'], 'vegetable': 'onion, mushroom, lettuce'}"
      ]
     },
     "execution_count": 274,
     "metadata": {},
     "output_type": "execute_result"
    }
   ],
   "source": [
    "dict1 = {\"fruit\" : [75,\"orange\"], \"vegetable\":\"onion, mushroom, lettuce\"}\n",
    "dict1"
   ]
  },
  {
   "cell_type": "markdown",
   "metadata": {},
   "source": [
    "### Keys"
   ]
  },
  {
   "cell_type": "markdown",
   "metadata": {},
   "source": [
    "Get the keys from \"dict1\""
   ]
  },
  {
   "cell_type": "code",
   "execution_count": 275,
   "metadata": {},
   "outputs": [
    {
     "data": {
      "text/plain": [
       "dict_keys(['fruit', 'vegetable'])"
      ]
     },
     "execution_count": 275,
     "metadata": {},
     "output_type": "execute_result"
    }
   ],
   "source": [
    "dict1.keys()"
   ]
  },
  {
   "cell_type": "markdown",
   "metadata": {},
   "source": [
    "### Indexing With Keys?"
   ]
  },
  {
   "cell_type": "markdown",
   "metadata": {},
   "source": [
    "What happens if you try to run \"<b>dict1[0]</b>\"? Why?\n"
   ]
  },
  {
   "cell_type": "code",
   "execution_count": 276,
   "metadata": {},
   "outputs": [
    {
     "data": {
      "text/plain": [
       "[75, 'orange']"
      ]
     },
     "execution_count": 276,
     "metadata": {},
     "output_type": "execute_result"
    }
   ],
   "source": [
    "dict1[\"fruit\"]"
   ]
  },
  {
   "cell_type": "markdown",
   "metadata": {},
   "source": [
    "OR"
   ]
  },
  {
   "cell_type": "code",
   "execution_count": 277,
   "metadata": {},
   "outputs": [
    {
     "data": {
      "text/plain": [
       "[75, 'orange']"
      ]
     },
     "execution_count": 277,
     "metadata": {},
     "output_type": "execute_result"
    }
   ],
   "source": [
    "dict1.get(\"fruit\")"
   ]
  },
  {
   "cell_type": "markdown",
   "metadata": {},
   "source": [
    "### ii.Values"
   ]
  },
  {
   "cell_type": "markdown",
   "metadata": {},
   "source": [
    "Get the values from \"dict1\""
   ]
  },
  {
   "cell_type": "code",
   "execution_count": 278,
   "metadata": {},
   "outputs": [
    {
     "data": {
      "text/plain": [
       "dict_values([[75, 'orange'], 'onion, mushroom, lettuce'])"
      ]
     },
     "execution_count": 278,
     "metadata": {},
     "output_type": "execute_result"
    }
   ],
   "source": [
    "dict1.values()"
   ]
  },
  {
   "cell_type": "markdown",
   "metadata": {},
   "source": [
    "### Indexing With Values?\n",
    "A little more complicated"
   ]
  },
  {
   "cell_type": "code",
   "execution_count": 279,
   "metadata": {},
   "outputs": [
    {
     "name": "stdout",
     "output_type": "stream",
     "text": [
      "fruit\n"
     ]
    }
   ],
   "source": [
    "V = 'orange, watermelon, grape'\n",
    "\n",
    "for key, value in dict1.items():\n",
    "    if value == V:\n",
    "        K = key\n",
    "print(K)"
   ]
  },
  {
   "cell_type": "markdown",
   "metadata": {},
   "source": [
    "### iii. Length of Dictionary\n",
    "\n",
    "Returns the number of stored entries, i.e. the number of (key,value) pairs."
   ]
  },
  {
   "cell_type": "code",
   "execution_count": 280,
   "metadata": {},
   "outputs": [
    {
     "data": {
      "text/plain": [
       "2"
      ]
     },
     "execution_count": 280,
     "metadata": {},
     "output_type": "execute_result"
    }
   ],
   "source": [
    "len(dict1)"
   ]
  },
  {
   "cell_type": "markdown",
   "metadata": {},
   "source": [
    "### iv. Remove key and value"
   ]
  },
  {
   "cell_type": "code",
   "execution_count": 281,
   "metadata": {},
   "outputs": [
    {
     "name": "stdout",
     "output_type": "stream",
     "text": [
      "{'fruit': [75, 'orange']}\n"
     ]
    }
   ],
   "source": [
    "del dict1[\"vegetable\"]\n",
    "print(dict1)"
   ]
  },
  {
   "cell_type": "markdown",
   "metadata": {},
   "source": [
    "### v. Add new value"
   ]
  },
  {
   "cell_type": "code",
   "execution_count": 282,
   "metadata": {},
   "outputs": [
    {
     "name": "stdout",
     "output_type": "stream",
     "text": [
      "{'fruit': [75, 'orange'], 'new': 0}\n"
     ]
    }
   ],
   "source": [
    "dict1[\"new\"] = 0\n",
    "print(dict1)"
   ]
  },
  {
   "cell_type": "markdown",
   "metadata": {},
   "source": [
    "### vi. Concatenating Dictionaries\n",
    "<i>*Note: Keys must be unique</i>"
   ]
  },
  {
   "cell_type": "code",
   "execution_count": 283,
   "metadata": {},
   "outputs": [
    {
     "data": {
      "text/plain": [
       "{'fruit': 'orange, watermelon, grape',\n",
       " 'vegetable': 'onion, mushroom, lettuce',\n",
       " 'fruit1': [5, 6, 7]}"
      ]
     },
     "execution_count": 283,
     "metadata": {},
     "output_type": "execute_result"
    }
   ],
   "source": [
    "dict1 = {\"fruit\" : \"orange, watermelon, grape\", \"vegetable\":\"onion, mushroom, lettuce\"}\n",
    "dict2 = {\"fruit1\": [5,6,7]}\n",
    "dict1.update(dict2)\n",
    "dict1"
   ]
  },
  {
   "cell_type": "markdown",
   "metadata": {},
   "source": [
    "### <font color = \"coral\">Exercise 1: Create a new dictionary</font>\n",
    "<font color = \"coral\">Your keys should be \"Country\",\"State\",\"City\",\"ZipCode\"\n",
    "\n",
    "Fill in the values according to the keys."
   ]
  },
  {
   "cell_type": "code",
   "execution_count": 1,
   "metadata": {},
   "outputs": [],
   "source": [
    "#Your code here\n",
    "my_dict = {\"Country\" : \"USA\", \"State\":\"Calif\", \"City\":\"Sunnyvale\", \"Zip Code\":\"94087\"}\n"
   ]
  },
  {
   "cell_type": "markdown",
   "metadata": {},
   "source": [
    "## Multi-dimensional Array"
   ]
  },
  {
   "cell_type": "code",
   "execution_count": 285,
   "metadata": {},
   "outputs": [],
   "source": [
    "a = [[0,  1, 2, 3, 4, 5],\n",
    "     [10,11,12,13,14,15],\n",
    "     [20,21,22,23,24,25],\n",
    "     [30,31,32,33,34,35],\n",
    "     [40,41,42,43,44,45],\n",
    "     [50,51,52,53,54,55]]"
   ]
  },
  {
   "cell_type": "code",
   "execution_count": 286,
   "metadata": {},
   "outputs": [
    {
     "data": {
      "text/plain": [
       "[0, 1, 2, 3, 4, 5]"
      ]
     },
     "execution_count": 286,
     "metadata": {},
     "output_type": "execute_result"
    }
   ],
   "source": [
    "a[0]"
   ]
  },
  {
   "cell_type": "code",
   "execution_count": 287,
   "metadata": {},
   "outputs": [
    {
     "data": {
      "text/plain": [
       "[[40, 41, 42, 43, 44, 45], [50, 51, 52, 53, 54, 55]]"
      ]
     },
     "execution_count": 287,
     "metadata": {},
     "output_type": "execute_result"
    }
   ],
   "source": [
    "a[4:6]"
   ]
  },
  {
   "cell_type": "code",
   "execution_count": 288,
   "metadata": {},
   "outputs": [
    {
     "data": {
      "text/plain": [
       "55"
      ]
     },
     "execution_count": 288,
     "metadata": {},
     "output_type": "execute_result"
    }
   ],
   "source": [
    "a[5][5]"
   ]
  },
  {
   "cell_type": "code",
   "execution_count": null,
   "metadata": {},
   "outputs": [],
   "source": []
  },
  {
   "cell_type": "markdown",
   "metadata": {},
   "source": [
    "### List Comprehensions"
   ]
  },
  {
   "cell_type": "code",
   "execution_count": 289,
   "metadata": {},
   "outputs": [
    {
     "data": {
      "text/plain": [
       "[0, 1, 4, 9, 16, 25, 36, 49, 64, 81, 100, 121, 144, 169, 196]"
      ]
     },
     "execution_count": 289,
     "metadata": {},
     "output_type": "execute_result"
    }
   ],
   "source": [
    "[x**2 for x in range(15)]"
   ]
  },
  {
   "cell_type": "markdown",
   "metadata": {},
   "source": [
    " SAME AS BELOW"
   ]
  },
  {
   "cell_type": "code",
   "execution_count": 290,
   "metadata": {},
   "outputs": [
    {
     "data": {
      "text/plain": [
       "[0, 1, 4, 9, 16, 25, 36, 49, 64, 81, 100, 121, 144, 169, 196]"
      ]
     },
     "execution_count": 290,
     "metadata": {},
     "output_type": "execute_result"
    }
   ],
   "source": [
    "original = list(range(15))\n",
    "\n",
    "squares = []\n",
    "\n",
    "for x in original:\n",
    "    squares.append(x**2)\n",
    "    \n",
    "squares"
   ]
  },
  {
   "cell_type": "markdown",
   "metadata": {},
   "source": [
    "#### What is happening in this loop?"
   ]
  },
  {
   "cell_type": "code",
   "execution_count": 291,
   "metadata": {},
   "outputs": [
    {
     "data": {
      "text/plain": [
       "[0, 1, 16, 81, 256, 625, 1296, 2401, 4096, 6561]"
      ]
     },
     "execution_count": 291,
     "metadata": {},
     "output_type": "execute_result"
    }
   ],
   "source": [
    "new = []\n",
    "for x in squares:\n",
    "    if x < 100:\n",
    "        new.append(x**2)\n",
    "new"
   ]
  },
  {
   "cell_type": "code",
   "execution_count": 292,
   "metadata": {},
   "outputs": [
    {
     "data": {
      "text/plain": [
       "[0, 1, 16, 81, 256, 625, 1296, 2401, 4096, 6561]"
      ]
     },
     "execution_count": 292,
     "metadata": {},
     "output_type": "execute_result"
    }
   ],
   "source": [
    "new = [i**2 for i in squares if i < 100]\n",
    "new "
   ]
  },
  {
   "cell_type": "markdown",
   "metadata": {},
   "source": [
    "### <font color = \"coral\">Exercise 2:\n",
    "<font color = \"coral\">\n",
    "Turn this for loop into a nested for list comprehension (Should only be one line)."
   ]
  },
  {
   "cell_type": "code",
   "execution_count": 293,
   "metadata": {},
   "outputs": [
    {
     "name": "stdout",
     "output_type": "stream",
     "text": [
      "[0, 5, 10, 15, 20, 25, 30, 35, 40, 45, 50, 55, 60, 65, 70, 75, 80, 85, 90, 95, 100, 105, 110, 115, 120, 125, 130, 135, 140, 145, 150, 155, 160, 165, 170, 175, 180, 185, 190, 195, 200, 205, 210, 215, 220, 225, 230, 235, 240, 245, 250, 255, 260, 265, 270, 275, 280, 285, 290, 295, 300, 305, 310, 315, 320, 325, 330, 335, 340, 345, 350, 355, 360, 365, 370, 375, 380, 385, 390, 395, 400, 405, 410, 415, 420, 425, 430, 435, 440, 445, 450, 455, 460, 465, 470, 475, 480, 485, 490, 495, 500, 505, 510, 515, 520, 525, 530, 535, 540, 545, 550, 555, 560, 565, 570, 575, 580, 585, 590, 595, 600, 605, 610, 615, 620, 625, 630, 635, 640, 645, 650, 655, 660, 665, 670, 675, 680, 685, 690, 695, 700, 705, 710, 715, 720, 725, 730, 735, 740, 745, 750, 755, 760, 765, 770, 775, 780, 785, 790, 795, 800, 805, 810, 815, 820, 825, 830, 835, 840, 845, 850, 855, 860, 865, 870, 875, 880, 885, 890, 895, 900, 905, 910, 915, 920, 925, 930, 935, 940, 945, 950, 955, 960, 965, 970, 975, 980, 985, 990, 995]\n"
     ]
    }
   ],
   "source": [
    "mystery = []\n",
    "for i in range(1000):\n",
    "    if i%5 == 0:\n",
    "        mystery.append(i)\n",
    "print(mystery)"
   ]
  },
  {
   "cell_type": "code",
   "execution_count": 2,
   "metadata": {},
   "outputs": [
    {
     "name": "stdout",
     "output_type": "stream",
     "text": [
      "[0, 5, 10, 15, 20, 25, 30, 35, 40, 45, 50, 55, 60, 65, 70, 75, 80, 85, 90, 95, 100, 105, 110, 115, 120, 125, 130, 135, 140, 145, 150, 155, 160, 165, 170, 175, 180, 185, 190, 195, 200, 205, 210, 215, 220, 225, 230, 235, 240, 245, 250, 255, 260, 265, 270, 275, 280, 285, 290, 295, 300, 305, 310, 315, 320, 325, 330, 335, 340, 345, 350, 355, 360, 365, 370, 375, 380, 385, 390, 395, 400, 405, 410, 415, 420, 425, 430, 435, 440, 445, 450, 455, 460, 465, 470, 475, 480, 485, 490, 495, 500, 505, 510, 515, 520, 525, 530, 535, 540, 545, 550, 555, 560, 565, 570, 575, 580, 585, 590, 595, 600, 605, 610, 615, 620, 625, 630, 635, 640, 645, 650, 655, 660, 665, 670, 675, 680, 685, 690, 695, 700, 705, 710, 715, 720, 725, 730, 735, 740, 745, 750, 755, 760, 765, 770, 775, 780, 785, 790, 795, 800, 805, 810, 815, 820, 825, 830, 835, 840, 845, 850, 855, 860, 865, 870, 875, 880, 885, 890, 895, 900, 905, 910, 915, 920, 925, 930, 935, 940, 945, 950, 955, 960, 965, 970, 975, 980, 985, 990, 995]\n"
     ]
    }
   ],
   "source": [
    "#Your code here\n",
    "mystery = [x for x in range(1000) if x%5 == 0 ]\n",
    "print(mystery)"
   ]
  },
  {
   "cell_type": "markdown",
   "metadata": {},
   "source": [
    " <h1> <b><font color = coral>&#9998; <font color = coral>EXERCISE 3:</h1></font>"
   ]
  },
  {
   "cell_type": "markdown",
   "metadata": {},
   "source": [
    "<font color = \"coral\">\n",
    "Not that you have all this knowledge on different operators, data types, and loops create a loop that removes all the unwanted information from our list.\n",
    "\n",
    "<b>1) Create a loop where you get rid of all the odd numbers.\n",
    "<br><br>\n",
    "2) Put all the numbers in order from smallest to largest.<br><br>\n",
    "3) Once you only have a list of ordered even numbers convert all these integers into strings.<br><br>\n",
    "4) Now print your number strings as a single string with comma separation.</b>\n",
    "\n"
   ]
  },
  {
   "cell_type": "code",
   "execution_count": 3,
   "metadata": {},
   "outputs": [
    {
     "name": "stdout",
     "output_type": "stream",
     "text": [
      "1: [4, 6, 2, 6, 8, 4, 6, 8, 454, 876, 54, 76, 34, 234234, 23432, 4, 1212, 76, 5432, 123212245346342, 2]\n",
      "2: [2, 2, 4, 4, 4, 6, 6, 6, 8, 8, 34, 54, 76, 76, 454, 876, 1212, 5432, 23432, 234234, 123212245346342]\n",
      "3: ['2', '2', '4', '4', '4', '6', '6', '6', '8', '8', '34', '54', '76', '76', '454', '876', '1212', '5432', '23432', '234234', '123212245346342']\n",
      "4: 2,2,4,4,4,6,6,6,8,8,34,54,76,76,454,876,1212,5432,23432,234234,123212245346342\n",
      "<class 'str'>\n"
     ]
    }
   ],
   "source": [
    "lst = [4,6,3,2,6,8,9,7,23,4,465,7,6,8,454,5,876,567,54,76,34,55,\n",
    "       33,7653,234234,7857,23432,4353,4,345,4667,23235,1212,221,\n",
    "       335,2323,21,45,76,5432,54645645,123212245346342,67,34563,2]\n",
    "\n",
    "#Your code here\n",
    "no_odd_num = [x for x in lst if x%2 == 0]\n",
    "print(\"1:\",no_odd_num)\n",
    "\n",
    "no_odd_num.sort()\n",
    "print(\"2:\",no_odd_num)\n",
    "\n",
    "y=[]\n",
    "for i in range(len(no_odd_num)):\n",
    "    i1 = str(no_odd_num[i])\n",
    "    y.append(i1)\n",
    "\n",
    "print(\"3:\",y)\n",
    "\n",
    "x = ','.join(y)\n",
    "print(\"4:\",x)\n",
    "print(type(x))\n"
   ]
  },
  {
   "cell_type": "markdown",
   "metadata": {},
   "source": [
    " <h1> <b><font color = coral>&#9998; <font color = coral>EXERCISE 4:</h1></font>"
   ]
  },
  {
   "cell_type": "markdown",
   "metadata": {},
   "source": [
    "<font color = \"coral\">If we list all the natural numbers below 10 that are multiples of 3 or 5, we get 3, 5, 6 and 9. The sum of these multiples is 23.\n",
    "\n",
    "Find the sum of all the multiples of 3 or 5 below 10,000."
   ]
  },
  {
   "cell_type": "code",
   "execution_count": 4,
   "metadata": {},
   "outputs": [
    {
     "name": "stdout",
     "output_type": "stream",
     "text": [
      "23331668\n"
     ]
    }
   ],
   "source": [
    "#Your answer here\n",
    "l=[x for x in range(1,10000) if x%3 ==0 or x%5 ==0]\n",
    "print(sum(l))"
   ]
  },
  {
   "cell_type": "markdown",
   "metadata": {},
   "source": [
    " <h1> <b><font color = coral>&#9998; <font color = coral>EXERCISE 5:</h1></font>"
   ]
  },
  {
   "cell_type": "markdown",
   "metadata": {},
   "source": [
    "<font color = \"coral\">\n",
    "Calculate all square numbers (1,4,9,16,...) below 1,000. What's their sum?"
   ]
  },
  {
   "cell_type": "code",
   "execution_count": 5,
   "metadata": {},
   "outputs": [
    {
     "name": "stdout",
     "output_type": "stream",
     "text": [
      "332833500\n"
     ]
    }
   ],
   "source": [
    "#Your answer here\n",
    "s=[x**2 for x in range(1,1000)]\n",
    "print(sum(s))"
   ]
  },
  {
   "cell_type": "markdown",
   "metadata": {},
   "source": [
    " <h1> <b><font color = coral>&#9998; <font color = coral>EXERCISE 6:</h1></font>"
   ]
  },
  {
   "cell_type": "markdown",
   "metadata": {},
   "source": [
    "<font color = \"coral\">\n",
    "Write a function to calculate the mean (average) of \"lst\". Do not use the built-in \"mean\" functions that Python offers."
   ]
  },
  {
   "cell_type": "code",
   "execution_count": 6,
   "metadata": {},
   "outputs": [
    {
     "name": "stdout",
     "output_type": "stream",
     "text": [
      "121.77272727272727\n"
     ]
    }
   ],
   "source": [
    "lst = [4,6,3,2,6,8,9,7,23,4,465,7,6,8,454,5,876,567,54,76,34,55]\n",
    "           \n",
    "#Your answer here\n",
    "def avg_fun():\n",
    " c = sum(lst)/len(lst)\n",
    " return c\n",
    "\n",
    "f= avg_fun()\n",
    "print(f)\n"
   ]
  },
  {
   "cell_type": "markdown",
   "metadata": {},
   "source": [
    " <h1> <b><font color = coral>&#9998; <font color = coral>EXERCISE 7:</h1></font>"
   ]
  },
  {
   "cell_type": "markdown",
   "metadata": {},
   "source": [
    "<font color = \"coral\">\n",
    "Write a function to calculate the median of \"lst\". Do not use the built-in \"median\" functions that Python offers."
   ]
  },
  {
   "cell_type": "code",
   "execution_count": 7,
   "metadata": {},
   "outputs": [
    {
     "name": "stdout",
     "output_type": "stream",
     "text": [
      "67\n"
     ]
    }
   ],
   "source": [
    "lst = [4,6,3,2,6,8,9,7,23,4,465,7,6,8,454,5,876,567,54,76,34,55,\n",
    "       33,7653,234234,7857,23432,4353,4,345,4667,23235,1212,221,\n",
    "       335,2323,21,45,76,5432,54645645,123212245346342,67,34563,2]\n",
    "\n",
    "#Your answer here\n",
    "def my_median():\n",
    "    lst.sort()\n",
    "    len_of_the_list = len(lst)\n",
    "    x = int(len_of_the_list / 2)\n",
    "    if len_of_the_list % 2 == 0: \n",
    "        med = int(lst[x-1]+lst[x])/2\n",
    "        return med\n",
    "    else:\n",
    "        return lst[x]\n",
    "\n",
    "m = my_median()\n",
    "print(m)\n",
    "\n"
   ]
  },
  {
   "cell_type": "markdown",
   "metadata": {},
   "source": [
    " <h1> <b><font color = coral>&#9998; <font color = coral>EXERCISE 8:</h1></font>"
   ]
  },
  {
   "cell_type": "markdown",
   "metadata": {},
   "source": [
    "<font color = \"coral\">Write a function to calculate the mode of \"lst\". Do not use the built-in \"mode\" functions that Python offers."
   ]
  },
  {
   "cell_type": "code",
   "execution_count": 8,
   "metadata": {},
   "outputs": [
    {
     "name": "stdout",
     "output_type": "stream",
     "text": [
      "No unique mode\n"
     ]
    }
   ],
   "source": [
    "lst = [4,6,3,2,6,8,9,7,23,4,465,7,6,8,454,5,876,567,54,76,34,55,\n",
    "       33,7653,234234,7857,23432,4353,4,345,4667,23235,1212,221,\n",
    "       335,2323,21,45,76,5432,54645645,123212245346342,67,34563,2]\n",
    "\n",
    "#Your answer here\n",
    "e=[]\n",
    "def my_mode():\n",
    "    no_of_times = []\n",
    "    for i in lst:\n",
    "        k = lst.count(i)\n",
    "        no_of_times.append(k) # constructing list with no. of occurances\n",
    "\n",
    "    my_dict = dict(zip(lst,no_of_times))\n",
    "    m = max(my_dict.values()) # constructing dictionary with list elements and no.of occurances\n",
    "\n",
    "    for key, value in my_dict.items():\n",
    "        if value == m:e.append(key) # creating a list to check if there is more than 1 mode element\n",
    "\n",
    "    if(len(e)>1): print(\"No unique mode\") # when 2 equally common values are found\n",
    "    elif(len(e)==1): print( \"mode is\", e[0] ) # prints when unique mode value is found\n",
    "        \n",
    "my_mode()"
   ]
  },
  {
   "cell_type": "markdown",
   "metadata": {},
   "source": [
    "# Reading CSV file -- bayarea_home_prices data"
   ]
  },
  {
   "cell_type": "code",
   "execution_count": 301,
   "metadata": {},
   "outputs": [
    {
     "data": {
      "text/plain": [
       "'\\nDataset description\\n1) HomeID = Home ID number\\n2) HomeAge = Age of home in years\\n3) HomeSqft = Square footage of home\\n4) LotSize = LotSize\\n5) BedRooms = Num bedrooms as per county data\\n6) HighSchoolAPI = API for nearest high school\\n7) ProxFwy = Distance in miles to Freeway\\n8) CarGarage = Number of cars in garage; 0 = no garage\\n9) ZipCode = Postal zip code for the home\\n10)HomePriceK = Home price in $K (Target)\\n-------------------------------------------\\n9 X Variables; 1 Y variable (Target)\\nData Points = 100\\n\\nData errors:\\n1) Few ZipCode have starting digit to be 8, it should be 9\\n2) Few HighSchoolApi scores have two digits, the ending digit 0 is missing\\n3) Few CarGarage numbers were entered as letter \"l\", it should be integer 1 \\n'"
      ]
     },
     "execution_count": 301,
     "metadata": {},
     "output_type": "execute_result"
    }
   ],
   "source": [
    "\"\"\"\n",
    "Dataset description\n",
    "1) HomeID = Home ID number\n",
    "2) HomeAge = Age of home in years\n",
    "3) HomeSqft = Square footage of home\n",
    "4) LotSize = LotSize\n",
    "5) BedRooms = Num bedrooms as per county data\n",
    "6) HighSchoolAPI = API for nearest high school\n",
    "7) ProxFwy = Distance in miles to Freeway\n",
    "8) CarGarage = Number of cars in garage; 0 = no garage\n",
    "9) ZipCode = Postal zip code for the home\n",
    "10)HomePriceK = Home price in $K (Target)\n",
    "-------------------------------------------\n",
    "9 X Variables; 1 Y variable (Target)\n",
    "Data Points = 100\n",
    "\n",
    "Data errors:\n",
    "1) Few ZipCode have starting digit to be 8, it should be 9\n",
    "2) Few HighSchoolApi scores have two digits, the ending digit 0 is missing\n",
    "3) Few CarGarage numbers were entered as letter \"l\", it should be integer 1 \n",
    "\"\"\""
   ]
  },
  {
   "cell_type": "code",
   "execution_count": 302,
   "metadata": {},
   "outputs": [],
   "source": [
    "## Reading csv files\n",
    "def read_file(filename):\n",
    "    file_open = open(filename,\"r\")\n",
    "    data_array = []\n",
    "    for line in iter(file_open):\n",
    "        if \"HomeID\" in line:\n",
    "            continue\n",
    "        line_no_newline = line.rstrip() # delete white space characters\n",
    "        line_split = line_no_newline.split(\",\")\n",
    "        data_array.append(line_split)\n",
    "    return data_array"
   ]
  },
  {
   "cell_type": "code",
   "execution_count": 303,
   "metadata": {},
   "outputs": [
    {
     "name": "stdout",
     "output_type": "stream",
     "text": [
      "[['1', '24', '1757', '6056', '2', '899', '3', '3', '94085', '894'], ['2', '10', '1563', '6085', '2', '959', '4', '3', '94085', '861'], ['3', '14', '1344', '6089', '2', '865', '4', '3', '94085', '831'], ['4', '14', '1215', '6129', '3', '959', '4', '2', '94085', '809'], ['5', '24', '1866', '6141', '3', '877', '4', '1', '94085', '890'], ['6', '18', '1589', '6148', '2', '920', '3', '0', '84085', '867']]\n"
     ]
    }
   ],
   "source": [
    "housing_data = read_file(\"bayarea_home_prices.csv\")\n",
    "print(housing_data[0:6])"
   ]
  },
  {
   "cell_type": "code",
   "execution_count": 304,
   "metadata": {},
   "outputs": [
    {
     "name": "stdout",
     "output_type": "stream",
     "text": [
      "100\n"
     ]
    }
   ],
   "source": [
    "len_housing_data = len(housing_data)\n",
    "print(len_housing_data)"
   ]
  },
  {
   "cell_type": "code",
   "execution_count": 305,
   "metadata": {},
   "outputs": [],
   "source": [
    "list_HomeAge = []\n",
    "# for all rows, extract only column 1\n",
    "for k in range(0,len_housing_data):\n",
    "    list_HomeAge.append(housing_data[k][1])    "
   ]
  },
  {
   "cell_type": "code",
   "execution_count": 306,
   "metadata": {},
   "outputs": [
    {
     "name": "stdout",
     "output_type": "stream",
     "text": [
      "['24', '10', '14', '14', '24', '18', '13', '19', '17', '24', '12', '22', '15', '25', '10', '20', '23', '16', '10', '13', '17', '10', '15', '10', '21', '12', '13', '10', '17', '24', '10', '18', '11', '19', '12', '14', '13', '22', '22', '15', '23', '21', '17', '11', '15', '11', '21', '22', '12', '19', '19', '25', '23', '12', '10', '11', '11', '19', '22', '19', '13', '19', '25', '12', '14', '25', '24', '12', '21', '16', '19', '24', '25', '17', '14', '12', '17', '25', '17', '11', '18', '19', '24', '25', '22', '19', '18', '22', '21', '14', '16', '18', '25', '21', '13', '11', '10', '21', '19', '11']\n"
     ]
    }
   ],
   "source": [
    "print(list_HomeAge) \n",
    "# they are still strings, cannot do numerical calculations with strings "
   ]
  },
  {
   "cell_type": "code",
   "execution_count": 307,
   "metadata": {},
   "outputs": [],
   "source": [
    "# How to convert zipcodes from text to numbers\n",
    "for k in range(0,len_housing_data):\n",
    "    housing_data[k][8] = int(housing_data[k][8])  # convert to integer data type and over-write"
   ]
  },
  {
   "cell_type": "code",
   "execution_count": 308,
   "metadata": {},
   "outputs": [
    {
     "name": "stdout",
     "output_type": "stream",
     "text": [
      "[['1', '24', '1757', '6056', '2', '899', '3', '3', 94085, '894'], ['2', '10', '1563', '6085', '2', '959', '4', '3', 94085, '861'], ['3', '14', '1344', '6089', '2', '865', '4', '3', 94085, '831'], ['4', '14', '1215', '6129', '3', '959', '4', '2', 94085, '809'], ['5', '24', '1866', '6141', '3', '877', '4', '1', 94085, '890']]\n"
     ]
    }
   ],
   "source": [
    "print(housing_data[0:5]) # Zipcode is without quotes and not strings; they are now integers"
   ]
  },
  {
   "cell_type": "code",
   "execution_count": 1,
   "metadata": {},
   "outputs": [],
   "source": [
    "## Reading csv files, how to fix errors in data, replace 84085 with 94085\n",
    "def read_file_housing(filename):\n",
    "    file_open = open(filename,\"r\")\n",
    "    data_array = []\n",
    "    for line in iter(file_open):\n",
    "        if \"HomeID\" in line:\n",
    "            continue\n",
    "        line_no_newline = line.rstrip()\n",
    "        line2 = line_no_newline.replace(\"84085\",\"94085\")\n",
    "        line_split = line2.split(\",\")\n",
    "        data_array.append(line_split)\n",
    "    return data_array\n",
    "\n"
   ]
  },
  {
   "cell_type": "code",
   "execution_count": 310,
   "metadata": {},
   "outputs": [
    {
     "name": "stdout",
     "output_type": "stream",
     "text": [
      "[['1', '24', '1757', '6056', '2', '899', '3', '3', '94085', '894'], ['2', '10', '1563', '6085', '2', '959', '4', '3', '94085', '861'], ['3', '14', '1344', '6089', '2', '865', '4', '3', '94085', '831'], ['4', '14', '1215', '6129', '3', '959', '4', '2', '94085', '809'], ['5', '24', '1866', '6141', '3', '877', '4', '1', '94085', '890'], ['6', '18', '1589', '6148', '2', '920', '3', '0', '94085', '867']]\n"
     ]
    }
   ],
   "source": [
    "housing_data2 = read_file_housing(\"bayarea_home_prices.csv\")\n",
    "print(housing_data2[0:6])"
   ]
  },
  {
   "cell_type": "code",
   "execution_count": 311,
   "metadata": {},
   "outputs": [
    {
     "name": "stdout",
     "output_type": "stream",
     "text": [
      "100\n"
     ]
    }
   ],
   "source": [
    "len_housing_data2 = len(housing_data2)\n",
    "print(len_housing_data2)"
   ]
  },
  {
   "cell_type": "code",
   "execution_count": 312,
   "metadata": {},
   "outputs": [],
   "source": [
    "list_ZipCode2 = []\n",
    "# for all rows, extract all zipcodes\n",
    "for k in range(0,len_housing_data2):\n",
    "    list_ZipCode2.append(int(housing_data2[k][8]))  "
   ]
  },
  {
   "cell_type": "code",
   "execution_count": 313,
   "metadata": {},
   "outputs": [
    {
     "name": "stdout",
     "output_type": "stream",
     "text": [
      "[94085, 94085, 94085, 94085, 94085, 94085, 94085, 94085, 94085, 94085, 94085, 94085, 94085, 94085, 94085, 95051, 94085, 94085, 95051, 94085, 94085, 94085, 94085, 95051, 94085, 94085, 94085, 95051, 94085, 95051, 95051, 95051, 95051, 95051, 95051, 95051, 85051, 95051, 95051, 95051, 94087, 94087, 95051, 95051, 95051, 94087, 95051, 94087, 94087, 95051, 95051, 95051, 85051, 94087, 95051, 94087, 94087, 94087, 95051, 94087, 94087, 94087, 94087, 94087, 94087, 95014, 94087, 94087, 94087, 94087, 95014, 94087, 95014, 95014, 84087, 84087, 95014, 94087, 94087, 94087, 95014, 95014, 95014, 95014, 85014, 95014, 95014, 95014, 85014, 95014, 95014, 95014, 95014, 95014, 95014, 95014, 95014, 95014, 95014, 95014]\n"
     ]
    }
   ],
   "source": [
    "print(list_ZipCode2) # Converted to numbers"
   ]
  },
  {
   "cell_type": "markdown",
   "metadata": {},
   "source": [
    "<h1> <b><font color = coral>&#9998; <font color = coral>EXERCISE 9:</h1></font>"
   ]
  },
  {
   "cell_type": "code",
   "execution_count": 19,
   "metadata": {},
   "outputs": [
    {
     "name": "stdout",
     "output_type": "stream",
     "text": [
      "Counter({94085: 25, 95051: 25, 94087: 25, 95014: 25})\n"
     ]
    }
   ],
   "source": [
    "\"\"\"\n",
    "The above example shows correcting 84085 -> 94085\n",
    "Perform other zip code corrections: \n",
    "84087 -> 94087,\n",
    "85014 -> 95014,\n",
    "85051 -> 95051\n",
    "Create a table for zip code distribution after corrections:\n",
    "After:Zipcode,House_Count\n",
    "94085,25\n",
    "94087,25\n",
    "95051,25\n",
    "95014,25\n",
    "\"\"\"\n",
    "#Your answer here\n",
    "from collections import Counter\n",
    "\n",
    "def read_house_data(fname):\n",
    "    file_open = open(fname, \"r\")\n",
    "    new_array = []\n",
    "    for line in iter(file_open):\n",
    "        if \"HomeID\" in line:\n",
    "            continue\n",
    "        line_no_newline = line.rstrip()  # deletes spaces from each line\n",
    "        line2 = line_no_newline.replace(\"84085\", \"94085\")\n",
    "        line_split = line2.split(',')\n",
    "        new_array.append(line_split)\n",
    "\n",
    "    for k in range(len(new_array)):\n",
    "        if new_array[k][8] == \"84087\":\n",
    "            new_array[k][8] = \"94087\"\n",
    "        elif new_array[k][8] == \"85051\":\n",
    "             new_array[k][8] = \"95051\"\n",
    "        elif new_array[k][8] == \"85014\":\n",
    "             new_array[k][8] = \"95014\"\n",
    "\n",
    "    return new_array\n",
    "\n",
    "data_of_houses = read_house_data(\"bayarea_home_prices.csv\")\n",
    "zipcode = []\n",
    "for i in range(len(data_of_houses)):\n",
    "    zipcode.append(int(data_of_houses[i][8]))\n",
    "counter = Counter(zipcode)\n",
    "print(counter)"
   ]
  },
  {
   "cell_type": "markdown",
   "metadata": {},
   "source": [
    "<h1> <b><font color = coral>&#9998; <font color = coral>EXERCISE 10:</h1></font>"
   ]
  },
  {
   "cell_type": "code",
   "execution_count": 27,
   "metadata": {},
   "outputs": [
    {
     "name": "stdout",
     "output_type": "stream",
     "text": [
      "Avg API in 94085 zip code is: 907 no of homes: 25\n",
      "Avg API in 94087 zip code is: 899.24 no of homes: 25\n",
      "Avg API in 95051 zip code is: 916.68 no of homes: 25\n",
      "Avg API in 95014 zip code is: 894.8 no of homes: 25\n"
     ]
    }
   ],
   "source": [
    "\"\"\"\n",
    "Modify function read_file_housing to multiply incorrect SchoolAPI by 10.\n",
    "Assume API value to be incorrect if it is a two digit number.\n",
    "Calculate average School API by zipcode. Print the following:\n",
    "Average_SchoolAPI,Cnt_of_homes,ZipCode\n",
    "xyz,mn,abc\n",
    "\"\"\"\n",
    "\n",
    "\n",
    "# Your answer here\n",
    "from statistics import mean\n",
    "def read_file_housing(filename):\n",
    "    file_open = open(filename, \"r\")\n",
    "    data_array = []\n",
    "    for line in iter(file_open):\n",
    "        if \"HomeID\" in line:\n",
    "            continue\n",
    "        line_no_newline = line.rstrip()\n",
    "        line2 = line_no_newline.replace(\"84085\", \"94085\")\n",
    "        line_split = line2.split(\",\")\n",
    "        data_array.append(line_split)\n",
    "\n",
    "    for k in range(len(data_array)):\n",
    "        if data_array[k][8] == \"84087\":\n",
    "            data_array[k][8] = \"94087\"\n",
    "        elif data_array[k][8] == \"85051\":\n",
    "            data_array[k][8] = \"95051\"\n",
    "        elif data_array[k][8] == \"85014\":\n",
    "            data_array[k][8] = \"95014\"\n",
    "\n",
    "    for i in range(len(data_array)):\n",
    "        if int(data_array[i][5]) < 100:\n",
    "            data_array[i][5] = int(data_array[i][5]) * 10\n",
    "\n",
    "    return data_array\n",
    "\n",
    "homes_data = read_file_housing(\"bayarea_home_prices.csv\")\n",
    "api_94085 = []\n",
    "api_94087 = []\n",
    "api_95051 = []\n",
    "api_95014 = []\n",
    "for j in range(len(homes_data)):\n",
    "    if homes_data[j][8] == \"94085\":\n",
    "       api_94085.append(int(homes_data[j][5]))\n",
    "    elif homes_data[j][8] == \"94087\":\n",
    "         api_94087.append(int(homes_data[j][5]))\n",
    "    elif homes_data[j][8] == \"95051\":\n",
    "         api_95051.append(int(homes_data[j][5]))\n",
    "    elif homes_data[j][8] == \"95014\":\n",
    "          api_95014.append(int(homes_data[j][5]))\n",
    "print(\"Avg API in 94085 zip code is:\", mean(api_94085), \"no of homes:\", len(api_94085))\n",
    "print(\"Avg API in 94087 zip code is:\", mean(api_94087), \"no of homes:\", len(api_94087))\n",
    "print(\"Avg API in 95051 zip code is:\", mean(api_95051), \"no of homes:\", len(api_95051))\n",
    "print(\"Avg API in 95014 zip code is:\", mean(api_95014), \"no of homes:\", len(api_95014))\n"
   ]
  },
  {
   "cell_type": "markdown",
   "metadata": {},
   "source": [
    "<h1> <b><font color = coral>&#9998; <font color = coral>EXERCISE 11:</h1></font>"
   ]
  },
  {
   "cell_type": "code",
   "execution_count": 22,
   "metadata": {},
   "outputs": [
    {
     "name": "stdout",
     "output_type": "stream",
     "text": [
      "Counter({'3': 32, '0': 31, '2': 19, '1': 18})\n"
     ]
    }
   ],
   "source": [
    "\"\"\"\n",
    "Modify function read_file_housing to replace CarGarage value of 'l' with integer 1\n",
    "Calculate and print the following:\n",
    "Car_Garage,Cnt_of_homes\n",
    "0,m\n",
    "1,n\n",
    "2,o\n",
    "3,p\n",
    "\"\"\"\n",
    "from collections import Counter\n",
    "def read_file_housing(filename):\n",
    "    file_open = open(filename,\"r\")\n",
    "    data_array = []\n",
    "    for line in iter(file_open):\n",
    "        if \"HomeID\" in line:\n",
    "            continue\n",
    "        line_no_newline = line.rstrip()\n",
    "        line2 = line_no_newline.replace(\"84085\",\"94085\")\n",
    "        line_split = line2.split(\",\")\n",
    "        data_array.append(line_split)\n",
    "    for i in range(len(data_array)):\n",
    "        if data_array[i][7] == \"l\":\n",
    "            data_array[i][7] = \"1\"\n",
    "           # print(data_array[i])\n",
    "\n",
    "    return data_array\n",
    "\n",
    "house_list = read_file_housing(\"bayarea_home_prices.csv\")\n",
    "car_garage_list = []\n",
    "for j in range(len(house_list)):\n",
    "    car_garage_list.append(house_list[j][7])\n",
    "count_garage = Counter(car_garage_list)\n",
    "print(count_garage)"
   ]
  },
  {
   "cell_type": "markdown",
   "metadata": {},
   "source": [
    "<h1> <b><font color = coral>&#9998; <font color = coral>EXERCISE 12:</h1></font>"
   ]
  },
  {
   "cell_type": "code",
   "execution_count": 24,
   "metadata": {},
   "outputs": [
    {
     "name": "stdout",
     "output_type": "stream",
     "text": [
      "Avg Home price in 94085 zip code is: 885.96 no of homes: 25\n",
      "Avg Home price in 94087 zip code is: 1151.48 no of homes: 25\n",
      "Avg Home price in 95051 zip code is: 1023.2 no of homes: 25\n",
      "Avg Home price in 95014 zip code is: 1263.32 no of homes: 25\n"
     ]
    }
   ],
   "source": [
    "\"\"\"\n",
    "Find the average price of a home in this four zip codes area.\n",
    "Zipcode,Avg_Price,Cnt_of_homes\n",
    "\"\"\"\n",
    "from collections import Counter\n",
    "from statistics import mean\n",
    "\n",
    "def read_house_data(fname):\n",
    "    file_open = open(fname, \"r\")\n",
    "    new_array = []\n",
    "    for line in iter(file_open):\n",
    "        if \"HomeID\" in line:\n",
    "            continue\n",
    "        line_no_newline = line.rstrip()  # deletes spaces from each line\n",
    "        line2 = line_no_newline.replace(\"84085\", \"94085\")\n",
    "        line_split = line2.split(',')\n",
    "        new_array.append(line_split)\n",
    "\n",
    "    for k in range(len(new_array)):\n",
    "        if new_array[k][8] == \"84087\":\n",
    "            new_array[k][8] = \"94087\"\n",
    "        elif new_array[k][8] == \"85051\":\n",
    "             new_array[k][8] = \"95051\"\n",
    "        elif new_array[k][8] == \"85014\":\n",
    "             new_array[k][8] = \"95014\"\n",
    "\n",
    "    return new_array\n",
    "\n",
    "data_of_houses = read_house_data(\"bayarea_home_prices.csv\")\n",
    "\n",
    "homes_94085 = []\n",
    "homes_94087 = []\n",
    "homes_95051 = []\n",
    "homes_95014 = []\n",
    "for j in range(len(data_of_houses)):\n",
    "    if data_of_houses[j][8]==\"94085\":\n",
    "        homes_94085.append(int(data_of_houses[j][9]))\n",
    "    elif data_of_houses[j][8]==\"94087\":\n",
    "        homes_94087.append(int(data_of_houses[j][9]))\n",
    "    elif data_of_houses[j][8]==\"95051\":\n",
    "        homes_95051.append(int(data_of_houses[j][9]))\n",
    "    elif data_of_houses[j][8] == \"95014\":\n",
    "        homes_95014.append(int(data_of_houses[j][9]))\n",
    "print(\"Avg Home price in 94085 zip code is:\", mean(homes_94085),\"no of homes:\", len(homes_94085))\n",
    "print(\"Avg Home price in 94087 zip code is:\", mean(homes_94087),\"no of homes:\", len(homes_94087))\n",
    "print(\"Avg Home price in 95051 zip code is:\", mean(homes_95051),\"no of homes:\", len(homes_95051))\n",
    "print(\"Avg Home price in 95014 zip code is:\", mean(homes_95014),\"no of homes:\", len(homes_95014))\n",
    "\n",
    "\n"
   ]
  },
  {
   "cell_type": "markdown",
   "metadata": {},
   "source": [
    "<h1> <b><font color = coral>&#9998; <font color = coral>EXERCISE 13:</h1></font>"
   ]
  },
  {
   "cell_type": "code",
   "execution_count": 26,
   "metadata": {},
   "outputs": [
    {
     "name": "stdout",
     "output_type": "stream",
     "text": [
      "The average house price in Sunnyvale based on 50 homes is $ 1018.72 thousands\n"
     ]
    }
   ],
   "source": [
    "\"\"\"\n",
    "Find the average price of a home in Sunnyvale (94087 and 94085).\n",
    "Print the output as follows:\n",
    "The average house price in Sunnyvale based on xx homes is $yyy (thousands).\n",
    "\"\"\"\n",
    "from collections import Counter\n",
    "from statistics import mean\n",
    "\n",
    "def read_house_data(fname):\n",
    "    file_open = open(fname, \"r\")\n",
    "    new_array = []\n",
    "    for line in iter(file_open):\n",
    "        if \"HomeID\" in line:\n",
    "            continue\n",
    "        line_no_newline = line.rstrip()  # deletes spaces from each line\n",
    "        line2 = line_no_newline.replace(\"84085\", \"94085\")\n",
    "        line_split = line2.split(',')\n",
    "        new_array.append(line_split)\n",
    "\n",
    "    for k in range(len(new_array)):\n",
    "        if new_array[k][8] == \"84087\":\n",
    "            new_array[k][8] = \"94087\"\n",
    "        elif new_array[k][8] == \"85051\":\n",
    "             new_array[k][8] = \"95051\"\n",
    "        elif new_array[k][8] == \"85014\":\n",
    "             new_array[k][8] = \"95014\"\n",
    "\n",
    "    return new_array\n",
    "\n",
    "data_of_houses = read_house_data(\"bayarea_home_prices.csv\")\n",
    "\n",
    "homes_94085_prices = []\n",
    "homes_94087_prices = []\n",
    "homes_95051_prices = []\n",
    "homes_95014_prices = []\n",
    "for j in range(len(data_of_houses)):\n",
    "    if data_of_houses[j][8]==\"94085\":\n",
    "        homes_94085_prices.append(int(data_of_houses[j][9]))\n",
    "    elif data_of_houses[j][8]==\"94087\":\n",
    "        homes_94087_prices.append(int(data_of_houses[j][9]))\n",
    "    elif data_of_houses[j][8]==\"95051\":\n",
    "        homes_95051_prices.append(int(data_of_houses[j][9]))\n",
    "    elif data_of_houses[j][8] == \"95014\":\n",
    "        homes_95014_prices.append(int(data_of_houses[j][9]))\n",
    "\n",
    "sunnyvale_homes_prices = homes_94085_prices+homes_94087_prices\n",
    "print(\"The average house price in Sunnyvale based on\", len(sunnyvale_homes_prices), \"homes is $\",mean(sunnyvale_homes_prices),\"thousands\")\n"
   ]
  },
  {
   "cell_type": "code",
   "execution_count": null,
   "metadata": {},
   "outputs": [],
   "source": []
  },
  {
   "cell_type": "code",
   "execution_count": null,
   "metadata": {},
   "outputs": [],
   "source": []
  }
 ],
 "metadata": {
  "kernelspec": {
   "display_name": "Python 3",
   "language": "python",
   "name": "python3"
  },
  "language_info": {
   "codemirror_mode": {
    "name": "ipython",
    "version": 3
   },
   "file_extension": ".py",
   "mimetype": "text/x-python",
   "name": "python",
   "nbconvert_exporter": "python",
   "pygments_lexer": "ipython3",
   "version": "3.7.0"
  }
 },
 "nbformat": 4,
 "nbformat_minor": 2
}
