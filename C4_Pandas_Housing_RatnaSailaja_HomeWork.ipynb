{
 "cells": [
  {
   "cell_type": "code",
   "execution_count": null,
   "metadata": {},
   "outputs": [],
   "source": [
    "# Pandas Data Cleaning and Exploratory Data Analysis (EDA)"
   ]
  },
  {
   "cell_type": "code",
   "execution_count": 2,
   "metadata": {},
   "outputs": [],
   "source": [
    "import pandas as pd"
   ]
  },
  {
   "cell_type": "markdown",
   "metadata": {},
   "source": [
    "## Upload Data"
   ]
  },
  {
   "cell_type": "code",
   "execution_count": null,
   "metadata": {},
   "outputs": [],
   "source": [
    "housing_header = [\"HomeID\", \"HomeAge\", \"HomeSqft\", \"LotSize\", \"BedRooms\", \n",
    "                  \"HighSchoolAPI\", \"ProxFwy\", \"CarGarage\", \"ZipCode\", \"HomePriceK\"]\n",
    "df = pd.read_csv(\"fixed-housing-data.csv\",names=housing_header)\n",
    "#what does this do?"
   ]
  },
  {
   "cell_type": "code",
   "execution_count": null,
   "metadata": {},
   "outputs": [],
   "source": [
    "df.head(10)\n",
    "#df.tail()"
   ]
  },
  {
   "cell_type": "markdown",
   "metadata": {},
   "source": [
    "Why did we only want to display the first 5 rows of the dataframe?\n",
    "\n",
    "What if we wanted to see the size of this dataframe?"
   ]
  },
  {
   "cell_type": "code",
   "execution_count": null,
   "metadata": {},
   "outputs": [],
   "source": [
    "# number of rows\n",
    "len(df)"
   ]
  },
  {
   "cell_type": "code",
   "execution_count": null,
   "metadata": {},
   "outputs": [],
   "source": [
    "# shape of df (rows, columns)\n",
    "df.shape"
   ]
  },
  {
   "cell_type": "markdown",
   "metadata": {},
   "source": [
    "## Change Column Name(s)"
   ]
  },
  {
   "cell_type": "markdown",
   "metadata": {},
   "source": [
    "Why would we want to change the column names?"
   ]
  },
  {
   "cell_type": "code",
   "execution_count": null,
   "metadata": {},
   "outputs": [],
   "source": [
    "df = df.rename(columns={'HighSchoolAPI': 'SchoolAPI'})\n",
    "df.head()"
   ]
  },
  {
   "cell_type": "markdown",
   "metadata": {},
   "source": [
    "## Create New Columns"
   ]
  },
  {
   "cell_type": "markdown",
   "metadata": {},
   "source": [
    "What is new information about \"Block_Location\" that we can actually use and save?\n",
    "\n",
    "Let's create new columns for the information we extracted from those values."
   ]
  },
  {
   "cell_type": "code",
   "execution_count": null,
   "metadata": {},
   "outputs": [],
   "source": [
    "prices_2019 = [(price * 1.04) for price in df[\"HomePriceK\"]]\n",
    "df[\"Price2019\"] = prices_2019\n",
    "\n",
    "#Check if it worked\n",
    "df.head()"
   ]
  },
  {
   "cell_type": "code",
   "execution_count": null,
   "metadata": {},
   "outputs": [],
   "source": [
    "prices_2020 = [(price * 0.9) for price in df[\"HomePriceK\"]]\n",
    "df[\"Price2020\"] = prices_2020\n",
    "\n",
    "#Check if it worked\n",
    "df.head()"
   ]
  },
  {
   "cell_type": "markdown",
   "metadata": {},
   "source": [
    "## Drop Columns"
   ]
  },
  {
   "cell_type": "code",
   "execution_count": null,
   "metadata": {},
   "outputs": [],
   "source": [
    "df = df.drop(\"ProxFwy\", axis = 1)\n",
    "#Check if it dropped\n",
    "df.head()"
   ]
  },
  {
   "cell_type": "code",
   "execution_count": null,
   "metadata": {},
   "outputs": [],
   "source": [
    "aa= df.ZipCode.unique()\n",
    "print(aa)"
   ]
  },
  {
   "cell_type": "code",
   "execution_count": null,
   "metadata": {},
   "outputs": [],
   "source": [
    "df[\"CarGarage\"].unique()\n",
    "bb=df.CarGarage.unique()\n",
    "print(bb)"
   ]
  },
  {
   "cell_type": "markdown",
   "metadata": {},
   "source": [
    "# EXPLORATORY DATA ANALYSIS\n",
    "\n",
    "<h3>\"Exploratory data analysis or 'EDA' is a <b>critical</b> beginning step in analyzing the data from an experiment.</h3>\n",
    "\n",
    "<b>Here are the main reasons we use EDA:</b>\n",
    "<ul>\n",
    "• detection of mistakes<br><br>\n",
    "• checking of assumptions<br><br>\n",
    "• preliminary selection of appropriate models<br><br>\n",
    "• determining relationships among the explanatory variables, and<br><br>\n",
    "• assessing the direction and rough size of relationships between explanatory and outcome variables.\"</ul>\n"
   ]
  },
  {
   "cell_type": "markdown",
   "metadata": {},
   "source": [
    "## Now what?\n",
    "\n",
    "We have cleaned our data to the best of our ability based on the initial look. Now let's try to look at the <b>relationships</b> between different values. "
   ]
  },
  {
   "cell_type": "code",
   "execution_count": null,
   "metadata": {},
   "outputs": [],
   "source": [
    "df.head(10)"
   ]
  },
  {
   "cell_type": "code",
   "execution_count": null,
   "metadata": {},
   "outputs": [],
   "source": [
    "df.describe()"
   ]
  },
  {
   "cell_type": "markdown",
   "metadata": {},
   "source": [
    "Let's look at the different types of offenses that were called in. We know that using the .unique() function will return all the unique values in the column, but what if we wanted to also <b>count</b> the different times each unique value appeared?"
   ]
  },
  {
   "cell_type": "code",
   "execution_count": null,
   "metadata": {},
   "outputs": [],
   "source": [
    "df.ZipCode.value_counts()"
   ]
  },
  {
   "cell_type": "code",
   "execution_count": null,
   "metadata": {},
   "outputs": [],
   "source": [
    "df.CarGarage.value_counts()"
   ]
  },
  {
   "cell_type": "markdown",
   "metadata": {},
   "source": [
    "## GroupBy "
   ]
  },
  {
   "cell_type": "code",
   "execution_count": null,
   "metadata": {},
   "outputs": [],
   "source": [
    "df1 = df.groupby(\"ZipCode\").CarGarage.value_counts()\n",
    "print(df1)"
   ]
  },
  {
   "cell_type": "markdown",
   "metadata": {},
   "source": [
    "## More about GROUP BY\n",
    "\"This grouped variable is now a GroupBy object. It has not actually computed anything yet except for some intermediate data about the group key df['key1']. The idea is that this object has all of the information needed to then apply some operation to each of the groups.\" - Python for Data Analysis"
   ]
  },
  {
   "cell_type": "code",
   "execution_count": null,
   "metadata": {},
   "outputs": [],
   "source": [
    "#Use list() to show what a grouping looks like\n",
    "\n",
    "df.groupby(\"ZipCode\")"
   ]
  },
  {
   "cell_type": "markdown",
   "metadata": {},
   "source": [
    "Descriptive statistics by group"
   ]
  },
  {
   "cell_type": "code",
   "execution_count": null,
   "metadata": {},
   "outputs": [],
   "source": [
    "#returns a dict of your groups\n",
    "cc = df.groupby(\"ZipCode\").groups\n",
    "print(cc)\n",
    "df.groupby(\"ZipCode\").groups"
   ]
  },
  {
   "cell_type": "code",
   "execution_count": null,
   "metadata": {},
   "outputs": [],
   "source": [
    "df.groupby(\"ZipCode\").LotSize.describe()"
   ]
  },
  {
   "cell_type": "code",
   "execution_count": null,
   "metadata": {},
   "outputs": [],
   "source": [
    "df.groupby(\"ZipCode\").SchoolAPI.describe()"
   ]
  },
  {
   "cell_type": "markdown",
   "metadata": {},
   "source": [
    "### Get Columns + Index"
   ]
  },
  {
   "cell_type": "code",
   "execution_count": null,
   "metadata": {},
   "outputs": [],
   "source": [
    "df.columns"
   ]
  },
  {
   "cell_type": "code",
   "execution_count": null,
   "metadata": {},
   "outputs": [],
   "source": [
    "list(df.columns)"
   ]
  },
  {
   "cell_type": "markdown",
   "metadata": {},
   "source": [
    "# <font color = \"red\">Pandas HW 1</font>\n",
    "\n",
    "Could there be any relationship between \"Price per lot size Sqft\" and \"Price per home Sqft\"? What can be the takeaway message from the data we have? Try out different functions to see if there is any significance?"
   ]
  },
  {
   "cell_type": "code",
   "execution_count": null,
   "metadata": {},
   "outputs": [],
   "source": [
    "# Your code here ...\n",
    "df[\"PricePerHomeSqft\"] =df[\"HomePriceK\"]/df[\"HomeSqft\"]*1000\n",
    "df.groupby(\"ZipCode\").PricePerHomeSqft.describe()\n",
    "df.groupby(\"BedRooms\").PricePerHomeSqft.describe()\n",
    "df.groupby(\"HomeAge\").PricePerHomeSqft.describe()\n",
    "df.groupby(\"SchoolAPI\").PricePerHomeSqft.describe()\n",
    "df.groupby(\"CarGarage\").PricePerHomeSqft.describe()\n",
    "One = df[\"LotSize\"].corr(df[\"HomePriceK\"])\n",
    "print(\"Correlation between LotSize and HomePriceK is\",One) # This is highly correlated"
   ]
  },
  {
   "cell_type": "code",
   "execution_count": null,
   "metadata": {},
   "outputs": [],
   "source": [
    "Two = df[\"LotSize\"].corr(df[\"PricePerHomeSqft\"])\n",
    "print(\"Correlation between LotSize and PricePerHomeSqft is\",Two) # Moderate correlation"
   ]
  },
  {
   "cell_type": "code",
   "execution_count": null,
   "metadata": {},
   "outputs": [],
   "source": [
    "Three  = df[\"HomePriceK\"].corr(df[\"SchoolAPI\"])\n",
    "print(\"Correlation between SchoolAPI and HomePriceK is\",Three) # Nearly no linear relationship"
   ]
  },
  {
   "cell_type": "code",
   "execution_count": null,
   "metadata": {},
   "outputs": [],
   "source": [
    "Four = df[\"HomePriceK\"].corr(df[\"BedRooms\"])\n",
    "print(\"Correlation between HomePriceK and BedRooms is\",Four) # Moderate relationship"
   ]
  },
  {
   "cell_type": "markdown",
   "metadata": {},
   "source": [
    "From the above analysis LotSize is highly correlated with HomePrice"
   ]
  },
  {
   "cell_type": "markdown",
   "metadata": {},
   "source": [
    "# <font color = \"red\">Pandas HW 2</font>"
   ]
  },
  {
   "cell_type": "markdown",
   "metadata": {},
   "source": [
    "What other data column for the zip codes could make the analysis more precise?\n",
    "\n",
    "Median houshold income, population, population density??? Inlude one or more new data columns and re-visit your conclusions from HW 1.\n",
    "\n",
    "Are these home prices driven by factors for which we have the data?"
   ]
  },
  {
   "cell_type": "code",
   "execution_count": null,
   "metadata": {},
   "outputs": [],
   "source": [
    "# your code here ...\n",
    "import numpy as np\n",
    "df.groupby(\"ZipCode\").BedRooms.describe()\n",
    "def popl(df):\n",
    "    if df[\"ZipCode\"]==94085:\n",
    "        df[\"Population\"] = 140081\n",
    "    elif df[\"ZipCode\"] ==94087:\n",
    "        df[\"Population\"] = 140095\n",
    "    elif df[\"ZipCode\"] ==95051:\n",
    "        df[\"Population\"] = 116468\n",
    "    else:\n",
    "        df[\"Population\"] =58302\n",
    "    return df[\"Population\"] \n",
    "\n",
    "df[\"Population\"] = df.apply(popl, axis=1) # added population column\n",
    "Five = df[\"HomePriceK\"].corr(df[\"Population\"])\n",
    "print(\"Correlation between HomePriceK and Population is\",Five) # Not very correlated\n",
    "\n",
    "def popl_den(df):\n",
    "    if df[\"ZipCode\"]==94085:\n",
    "        df[\"PopDensity\"] =  6173.9\n",
    "    elif df[\"ZipCode\"] ==94087:\n",
    "        df[\"PopDensity\"] = 6173.9 \n",
    "    elif df[\"ZipCode\"] ==95051:\n",
    "        df[\"PopDensity\"] = 6327.3\n",
    "    elif df[\"ZipCode\"] ==95014:\n",
    "        df[\"PopDensity\"] = 5179.1\n",
    "    return df[\"PopDensity\"] \n",
    "df[\"PopDensity\"] = df.apply(popl_den, axis=1) # added population Density column\n",
    "df.describe()\n",
    "\n",
    "Six = df[\"HomePriceK\"].corr(df[\"PopDensity\"])\n",
    "print(\"Correlation between HomePriceK and Population Density is\",Six) # Not very correlated\n",
    "\n",
    "\n",
    "def income_median(df):\n",
    "    if df[\"ZipCode\"]==94085:\n",
    "        df[\"IncomeMed\"] =  109799\n",
    "    elif df[\"ZipCode\"] ==94087:\n",
    "        df[\"IncomeMed\"] = 103257 \n",
    "    elif df[\"ZipCode\"] ==95051:\n",
    "        df[\"IncomeMed\"] = 93500\n",
    "    elif df[\"ZipCode\"] ==95014:\n",
    "        df[\"IncomeMed\"] = 130961\n",
    "    return df[\"IncomeMed\"] \n",
    "df[\"IncomeMed\"] = df.apply(income_median, axis=1) # added Median_Income column\n",
    "df.describe()\n",
    "\n",
    "Seven = df[\"HomePriceK\"].corr(df[\"IncomeMed\"])\n",
    "print(\"Correlation between HomePriceK and Median Income is\",Seven) # Moderate correlation"
   ]
  },
  {
   "cell_type": "markdown",
   "metadata": {},
   "source": [
    "From the above analysis after adding Population,Population Density and Median Income columns:\n",
    "1. Relation between HomePriceK and Population/Population Density is not very correlated\n",
    "2. Relation between HomePriceK and Median Income is Moderately correlated"
   ]
  },
  {
   "cell_type": "markdown",
   "metadata": {},
   "source": [
    "Over all take away:\n",
    "1.Relation between LotSize and HomePriceK is highly correlated\n",
    "2.Relation between LotSize and PricePerHomeSqft is Moderately correlated\n",
    "3.Relation between HomePriceK and Population/Population Density is not very correlated\n",
    "4.Relation between HomePriceK and Median Income is Moderately correlated"
   ]
  },
  {
   "cell_type": "markdown",
   "metadata": {},
   "source": [
    "# <font color = \"red\">Pandas HW with New Data set</font>"
   ]
  },
  {
   "cell_type": "markdown",
   "metadata": {},
   "source": [
    "1) Select a dataset from the repositories and perform Exploratory Data Analysis (EDA) using Pandas\n",
    "a) Read dataset file with Pandas, attach header, descriptive statistics, group-by, etc.\n",
    "b) Drop columns which are not useful for analysis purposes\n",
    "c) Identify factors and target in your dataset. HomePriceK was target in housing dataset.\n",
    "d) Explain your dataset with high-level analysis\n",
    "\n",
    "2) Complete two homework assignments in housing data Pandas notebook."
   ]
  },
  {
   "cell_type": "markdown",
   "metadata": {},
   "source": [
    "# a) Read dataset file with Pandas, attach header, descriptive statistics, group-by, etc."
   ]
  },
  {
   "cell_type": "code",
   "execution_count": 3,
   "metadata": {},
   "outputs": [
    {
     "data": {
      "text/plain": [
       "array(['ART_AND_DESIGN', 'AUTO_AND_VEHICLES', 'BEAUTY',\n",
       "       'BOOKS_AND_REFERENCE', 'BUSINESS', 'COMICS', 'COMMUNICATION',\n",
       "       'DATING', 'EDUCATION', 'ENTERTAINMENT', 'EVENTS', 'FINANCE',\n",
       "       'FOOD_AND_DRINK', 'HEALTH_AND_FITNESS', 'HOUSE_AND_HOME',\n",
       "       'LIBRARIES_AND_DEMO', 'LIFESTYLE', 'GAME', 'FAMILY', 'MEDICAL',\n",
       "       'SOCIAL', 'SHOPPING', 'PHOTOGRAPHY', 'SPORTS', 'TRAVEL_AND_LOCAL',\n",
       "       'TOOLS', 'PERSONALIZATION', 'PRODUCTIVITY', 'PARENTING', 'WEATHER',\n",
       "       'VIDEO_PLAYERS', 'NEWS_AND_MAGAZINES', 'MAPS_AND_NAVIGATION',\n",
       "       '1.9'], dtype=object)"
      ]
     },
     "execution_count": 3,
     "metadata": {},
     "output_type": "execute_result"
    }
   ],
   "source": [
    "df = pd.read_csv(\"googleplaystore.csv\")\n",
    "df[\"Category\"].unique()# This gives me if there are any incorrect values"
   ]
  },
  {
   "cell_type": "code",
   "execution_count": 4,
   "metadata": {},
   "outputs": [
    {
     "data": {
      "text/plain": [
       "Int64Index([10472], dtype='int64')"
      ]
     },
     "execution_count": 4,
     "metadata": {},
     "output_type": "execute_result"
    }
   ],
   "source": [
    "error_row = df.loc[df['Category'] == '1.9'] # finding row with incorrect Category value\n",
    "error_row.index # index is 10472"
   ]
  },
  {
   "cell_type": "code",
   "execution_count": 5,
   "metadata": {},
   "outputs": [
    {
     "name": "stdout",
     "output_type": "stream",
     "text": [
      "App               Life Made WI-Fi Touchscreen Photo Frame\n",
      "Category                                              1.9\n",
      "Rating                                                 19\n",
      "Reviews                                              3.0M\n",
      "Size                                               1,000+\n",
      "Installs                                             Free\n",
      "Type                                                    0\n",
      "Price                                            Everyone\n",
      "Content Rating                                        NaN\n",
      "Genres                                  February 11, 2018\n",
      "Last Updated                                       1.0.19\n",
      "Current Ver                                    4.0 and up\n",
      "Android Ver                                           NaN\n",
      "Name: 10472, dtype: object\n"
     ]
    }
   ],
   "source": [
    "#displaying row 10472 data #df.loc[10472] \n",
    "error_data = df.iloc[10472]\n",
    "print(error_data)"
   ]
  },
  {
   "cell_type": "code",
   "execution_count": 6,
   "metadata": {},
   "outputs": [
    {
     "name": "stdout",
     "output_type": "stream",
     "text": [
      "App               Life Made WI-Fi Touchscreen Photo Frame\n",
      "Category                                        LIFESTYLE\n",
      "Rating                                                1.9\n",
      "Reviews                                                19\n",
      "Size                                                 3.0M\n",
      "Installs                                           1,000+\n",
      "Type                                                 Free\n",
      "Price                                                   0\n",
      "Content Rating                                   Everyone\n",
      "Genres                                          LIFESTYLE\n",
      "Last Updated                            February 11, 2018\n",
      "Current Ver                                        1.0.19\n",
      "Android Ver                                    4.0 and up\n",
      "Name: 10472, dtype: object\n"
     ]
    }
   ],
   "source": [
    "fixed_data = error_data.shift(1)\n",
    "fixed_data[\"App\"] = \"Life Made WI-Fi Touchscreen Photo Frame\"\n",
    "fixed_data[\"Category\"] = \"LIFESTYLE\"\n",
    "fixed_data[\"Genres\"] = \"LIFESTYLE\"\n",
    "print(fixed_data)"
   ]
  },
  {
   "cell_type": "markdown",
   "metadata": {},
   "source": [
    "# fixing error_data row , Data Cleansing"
   ]
  },
  {
   "cell_type": "code",
   "execution_count": 7,
   "metadata": {},
   "outputs": [
    {
     "data": {
      "text/html": [
       "<div>\n",
       "<style scoped>\n",
       "    .dataframe tbody tr th:only-of-type {\n",
       "        vertical-align: middle;\n",
       "    }\n",
       "\n",
       "    .dataframe tbody tr th {\n",
       "        vertical-align: top;\n",
       "    }\n",
       "\n",
       "    .dataframe thead th {\n",
       "        text-align: right;\n",
       "    }\n",
       "</style>\n",
       "<table border=\"1\" class=\"dataframe\">\n",
       "  <thead>\n",
       "    <tr style=\"text-align: right;\">\n",
       "      <th></th>\n",
       "      <th>App</th>\n",
       "      <th>Category</th>\n",
       "      <th>Rating</th>\n",
       "      <th>Reviews</th>\n",
       "      <th>Size</th>\n",
       "      <th>Installs</th>\n",
       "      <th>Type</th>\n",
       "      <th>Price</th>\n",
       "      <th>Content Rating</th>\n",
       "      <th>Genres</th>\n",
       "      <th>Last Updated</th>\n",
       "      <th>Current Ver</th>\n",
       "      <th>Android Ver</th>\n",
       "    </tr>\n",
       "  </thead>\n",
       "  <tbody>\n",
       "    <tr>\n",
       "      <th>10472</th>\n",
       "      <td>Life Made WI-Fi Touchscreen Photo Frame</td>\n",
       "      <td>LIFESTYLE</td>\n",
       "      <td>1.9</td>\n",
       "      <td>19</td>\n",
       "      <td>3.0M</td>\n",
       "      <td>1,000+</td>\n",
       "      <td>Free</td>\n",
       "      <td>0</td>\n",
       "      <td>Everyone</td>\n",
       "      <td>LIFESTYLE</td>\n",
       "      <td>February 11, 2018</td>\n",
       "      <td>1.0.19</td>\n",
       "      <td>4.0 and up</td>\n",
       "    </tr>\n",
       "  </tbody>\n",
       "</table>\n",
       "</div>"
      ],
      "text/plain": [
       "                                           App   Category Rating Reviews  \\\n",
       "10472  Life Made WI-Fi Touchscreen Photo Frame  LIFESTYLE    1.9      19   \n",
       "\n",
       "       Size Installs  Type Price Content Rating     Genres       Last Updated  \\\n",
       "10472  3.0M   1,000+  Free     0       Everyone  LIFESTYLE  February 11, 2018   \n",
       "\n",
       "      Current Ver Android Ver  \n",
       "10472      1.0.19  4.0 and up  "
      ]
     },
     "execution_count": 7,
     "metadata": {},
     "output_type": "execute_result"
    }
   ],
   "source": [
    "## fixing error_data row , Data Cleansing\n",
    "df.iloc[10472] = fixed_data\n",
    "#print(df.iloc[[10472]])\n",
    "df.iloc[[10472]]"
   ]
  },
  {
   "cell_type": "code",
   "execution_count": 8,
   "metadata": {},
   "outputs": [
    {
     "data": {
      "text/plain": [
       "array(['ART_AND_DESIGN', 'AUTO_AND_VEHICLES', 'BEAUTY',\n",
       "       'BOOKS_AND_REFERENCE', 'BUSINESS', 'COMICS', 'COMMUNICATION',\n",
       "       'DATING', 'EDUCATION', 'ENTERTAINMENT', 'EVENTS', 'FINANCE',\n",
       "       'FOOD_AND_DRINK', 'HEALTH_AND_FITNESS', 'HOUSE_AND_HOME',\n",
       "       'LIBRARIES_AND_DEMO', 'LIFESTYLE', 'GAME', 'FAMILY', 'MEDICAL',\n",
       "       'SOCIAL', 'SHOPPING', 'PHOTOGRAPHY', 'SPORTS', 'TRAVEL_AND_LOCAL',\n",
       "       'TOOLS', 'PERSONALIZATION', 'PRODUCTIVITY', 'PARENTING', 'WEATHER',\n",
       "       'VIDEO_PLAYERS', 'NEWS_AND_MAGAZINES', 'MAPS_AND_NAVIGATION'],\n",
       "      dtype=object)"
      ]
     },
     "execution_count": 8,
     "metadata": {},
     "output_type": "execute_result"
    }
   ],
   "source": [
    "df[\"Category\"].unique() # Findind Unique values to see if data is fixed, I dont see \"1.9\" under Category "
   ]
  },
  {
   "cell_type": "code",
   "execution_count": 9,
   "metadata": {},
   "outputs": [
    {
     "data": {
      "text/plain": [
       "Index(['App', 'Category', 'Rating', 'Reviews', 'Size', 'Installs', 'Type',\n",
       "       'Price', 'Content Rating', 'Genres', 'Last Updated', 'Current Ver',\n",
       "       'Android Ver'],\n",
       "      dtype='object')"
      ]
     },
     "execution_count": 9,
     "metadata": {},
     "output_type": "execute_result"
    }
   ],
   "source": [
    "df[\"Category\"].describe() \n",
    "df.columns"
   ]
  },
  {
   "cell_type": "markdown",
   "metadata": {},
   "source": [
    "# b) Drop columns which are not useful for analysis purposes"
   ]
  },
  {
   "cell_type": "code",
   "execution_count": 34,
   "metadata": {},
   "outputs": [
    {
     "data": {
      "text/plain": [
       "Index(['App', 'Category', 'Rating', 'Reviews', 'Size', 'Installs', 'Price',\n",
       "       'Content Rating', 'Genres', 'Last Updated', 'Android Ver'],\n",
       "      dtype='object')"
      ]
     },
     "execution_count": 34,
     "metadata": {},
     "output_type": "execute_result"
    }
   ],
   "source": [
    "\n",
    "#Dropping \"Type\" as \"Price\" col has almost same info\n",
    "#Dropping \"Current Version\" as I dont think it plays a significant role for my analysis.\n",
    "#df = df.drop(\"Type\", axis = 1) #COMMENTING THIS LINE AFTER DROPPING, IF RUNNING FOR THE FIRST TIME PLEASE UNCOMMENT\n",
    "#df = df.drop(\"Current Ver\", axis = 1) #COMMENTING THIS LINE AFTER DROPPING, IF RUNNING FOR THE FIRST TIME PLEASE UNCOMMENT\n",
    "#Check if it dropped\n",
    "df.columns"
   ]
  },
  {
   "cell_type": "code",
   "execution_count": 37,
   "metadata": {},
   "outputs": [
    {
     "name": "stdout",
     "output_type": "stream",
     "text": [
      "<class 'pandas.core.frame.DataFrame'>\n",
      "RangeIndex: 10841 entries, 0 to 10840\n",
      "Data columns (total 11 columns):\n",
      "App               10841 non-null object\n",
      "Category          10841 non-null object\n",
      "Rating            9367 non-null float64\n",
      "Reviews           10841 non-null object\n",
      "Size              10841 non-null object\n",
      "Installs          10841 non-null float64\n",
      "Price             10841 non-null float64\n",
      "Content Rating    10841 non-null object\n",
      "Genres            10841 non-null object\n",
      "Last Updated      10841 non-null object\n",
      "Android Ver       10839 non-null object\n",
      "dtypes: float64(3), object(8)\n",
      "memory usage: 931.7+ KB\n"
     ]
    }
   ],
   "source": [
    "#Comment / uncomment below line to convert Installs column to float from String\n",
    "#df[\"Installs\"]= df[\"Installs\"].str.replace(',', '', regex=True).str.replace('+','.00').astype(float)\n",
    "#df[\"Rating\"] = df[\"Rating\"].astype(float)\n",
    "#df[\"Price\"] = df[\"Price\"].str.replace('$', '', regex=True).astype(float)\n",
    "df.info() # Checking Data type of each column"
   ]
  },
  {
   "cell_type": "code",
   "execution_count": 38,
   "metadata": {},
   "outputs": [
    {
     "data": {
      "text/html": [
       "<div>\n",
       "<style scoped>\n",
       "    .dataframe tbody tr th:only-of-type {\n",
       "        vertical-align: middle;\n",
       "    }\n",
       "\n",
       "    .dataframe tbody tr th {\n",
       "        vertical-align: top;\n",
       "    }\n",
       "\n",
       "    .dataframe thead tr th {\n",
       "        text-align: left;\n",
       "    }\n",
       "\n",
       "    .dataframe thead tr:last-of-type th {\n",
       "        text-align: right;\n",
       "    }\n",
       "</style>\n",
       "<table border=\"1\" class=\"dataframe\">\n",
       "  <thead>\n",
       "    <tr>\n",
       "      <th></th>\n",
       "      <th colspan=\"8\" halign=\"left\">Installs</th>\n",
       "      <th colspan=\"5\" halign=\"left\">Price</th>\n",
       "      <th colspan=\"8\" halign=\"left\">Rating</th>\n",
       "    </tr>\n",
       "    <tr>\n",
       "      <th></th>\n",
       "      <th>count</th>\n",
       "      <th>mean</th>\n",
       "      <th>std</th>\n",
       "      <th>min</th>\n",
       "      <th>25%</th>\n",
       "      <th>50%</th>\n",
       "      <th>75%</th>\n",
       "      <th>max</th>\n",
       "      <th>count</th>\n",
       "      <th>mean</th>\n",
       "      <th>...</th>\n",
       "      <th>75%</th>\n",
       "      <th>max</th>\n",
       "      <th>count</th>\n",
       "      <th>mean</th>\n",
       "      <th>std</th>\n",
       "      <th>min</th>\n",
       "      <th>25%</th>\n",
       "      <th>50%</th>\n",
       "      <th>75%</th>\n",
       "      <th>max</th>\n",
       "    </tr>\n",
       "    <tr>\n",
       "      <th>Category</th>\n",
       "      <th></th>\n",
       "      <th></th>\n",
       "      <th></th>\n",
       "      <th></th>\n",
       "      <th></th>\n",
       "      <th></th>\n",
       "      <th></th>\n",
       "      <th></th>\n",
       "      <th></th>\n",
       "      <th></th>\n",
       "      <th></th>\n",
       "      <th></th>\n",
       "      <th></th>\n",
       "      <th></th>\n",
       "      <th></th>\n",
       "      <th></th>\n",
       "      <th></th>\n",
       "      <th></th>\n",
       "      <th></th>\n",
       "      <th></th>\n",
       "      <th></th>\n",
       "    </tr>\n",
       "  </thead>\n",
       "  <tbody>\n",
       "    <tr>\n",
       "      <th>ART_AND_DESIGN</th>\n",
       "      <td>65.0</td>\n",
       "      <td>1.912894e+06</td>\n",
       "      <td>6.664810e+06</td>\n",
       "      <td>0.0</td>\n",
       "      <td>10000.0</td>\n",
       "      <td>100000.0</td>\n",
       "      <td>500000.0</td>\n",
       "      <td>5.000000e+07</td>\n",
       "      <td>65.0</td>\n",
       "      <td>0.091846</td>\n",
       "      <td>...</td>\n",
       "      <td>0.0</td>\n",
       "      <td>1.99</td>\n",
       "      <td>62.0</td>\n",
       "      <td>4.358065</td>\n",
       "      <td>0.358297</td>\n",
       "      <td>3.2</td>\n",
       "      <td>4.100</td>\n",
       "      <td>4.4</td>\n",
       "      <td>4.700</td>\n",
       "      <td>5.0</td>\n",
       "    </tr>\n",
       "    <tr>\n",
       "      <th>AUTO_AND_VEHICLES</th>\n",
       "      <td>85.0</td>\n",
       "      <td>6.250613e+05</td>\n",
       "      <td>1.746710e+06</td>\n",
       "      <td>1.0</td>\n",
       "      <td>1000.0</td>\n",
       "      <td>100000.0</td>\n",
       "      <td>500000.0</td>\n",
       "      <td>1.000000e+07</td>\n",
       "      <td>85.0</td>\n",
       "      <td>0.158471</td>\n",
       "      <td>...</td>\n",
       "      <td>0.0</td>\n",
       "      <td>9.99</td>\n",
       "      <td>73.0</td>\n",
       "      <td>4.190411</td>\n",
       "      <td>0.543692</td>\n",
       "      <td>2.1</td>\n",
       "      <td>4.000</td>\n",
       "      <td>4.3</td>\n",
       "      <td>4.600</td>\n",
       "      <td>4.9</td>\n",
       "    </tr>\n",
       "    <tr>\n",
       "      <th>BEAUTY</th>\n",
       "      <td>53.0</td>\n",
       "      <td>5.131519e+05</td>\n",
       "      <td>1.523140e+06</td>\n",
       "      <td>50.0</td>\n",
       "      <td>10000.0</td>\n",
       "      <td>50000.0</td>\n",
       "      <td>500000.0</td>\n",
       "      <td>1.000000e+07</td>\n",
       "      <td>53.0</td>\n",
       "      <td>0.000000</td>\n",
       "      <td>...</td>\n",
       "      <td>0.0</td>\n",
       "      <td>0.00</td>\n",
       "      <td>42.0</td>\n",
       "      <td>4.278571</td>\n",
       "      <td>0.362603</td>\n",
       "      <td>3.1</td>\n",
       "      <td>4.000</td>\n",
       "      <td>4.3</td>\n",
       "      <td>4.575</td>\n",
       "      <td>4.9</td>\n",
       "    </tr>\n",
       "    <tr>\n",
       "      <th>BOOKS_AND_REFERENCE</th>\n",
       "      <td>231.0</td>\n",
       "      <td>8.318050e+06</td>\n",
       "      <td>6.745986e+07</td>\n",
       "      <td>1.0</td>\n",
       "      <td>1000.0</td>\n",
       "      <td>10000.0</td>\n",
       "      <td>1000000.0</td>\n",
       "      <td>1.000000e+09</td>\n",
       "      <td>231.0</td>\n",
       "      <td>0.518485</td>\n",
       "      <td>...</td>\n",
       "      <td>0.0</td>\n",
       "      <td>6.49</td>\n",
       "      <td>178.0</td>\n",
       "      <td>4.346067</td>\n",
       "      <td>0.429046</td>\n",
       "      <td>2.7</td>\n",
       "      <td>4.100</td>\n",
       "      <td>4.5</td>\n",
       "      <td>4.600</td>\n",
       "      <td>5.0</td>\n",
       "    </tr>\n",
       "    <tr>\n",
       "      <th>BUSINESS</th>\n",
       "      <td>460.0</td>\n",
       "      <td>2.178076e+06</td>\n",
       "      <td>1.019870e+07</td>\n",
       "      <td>0.0</td>\n",
       "      <td>100.0</td>\n",
       "      <td>1000.0</td>\n",
       "      <td>100000.0</td>\n",
       "      <td>1.000000e+08</td>\n",
       "      <td>460.0</td>\n",
       "      <td>0.402761</td>\n",
       "      <td>...</td>\n",
       "      <td>0.0</td>\n",
       "      <td>89.99</td>\n",
       "      <td>303.0</td>\n",
       "      <td>4.121452</td>\n",
       "      <td>0.624422</td>\n",
       "      <td>1.0</td>\n",
       "      <td>3.900</td>\n",
       "      <td>4.3</td>\n",
       "      <td>4.500</td>\n",
       "      <td>5.0</td>\n",
       "    </tr>\n",
       "    <tr>\n",
       "      <th>COMICS</th>\n",
       "      <td>60.0</td>\n",
       "      <td>9.347692e+05</td>\n",
       "      <td>2.103069e+06</td>\n",
       "      <td>50.0</td>\n",
       "      <td>10000.0</td>\n",
       "      <td>100000.0</td>\n",
       "      <td>1000000.0</td>\n",
       "      <td>1.000000e+07</td>\n",
       "      <td>60.0</td>\n",
       "      <td>0.000000</td>\n",
       "      <td>...</td>\n",
       "      <td>0.0</td>\n",
       "      <td>0.00</td>\n",
       "      <td>58.0</td>\n",
       "      <td>4.155172</td>\n",
       "      <td>0.537758</td>\n",
       "      <td>2.8</td>\n",
       "      <td>3.825</td>\n",
       "      <td>4.4</td>\n",
       "      <td>4.500</td>\n",
       "      <td>5.0</td>\n",
       "    </tr>\n",
       "    <tr>\n",
       "      <th>COMMUNICATION</th>\n",
       "      <td>387.0</td>\n",
       "      <td>8.435989e+07</td>\n",
       "      <td>2.327870e+08</td>\n",
       "      <td>1.0</td>\n",
       "      <td>5000.0</td>\n",
       "      <td>1000000.0</td>\n",
       "      <td>10000000.0</td>\n",
       "      <td>1.000000e+09</td>\n",
       "      <td>387.0</td>\n",
       "      <td>0.214832</td>\n",
       "      <td>...</td>\n",
       "      <td>0.0</td>\n",
       "      <td>19.99</td>\n",
       "      <td>328.0</td>\n",
       "      <td>4.158537</td>\n",
       "      <td>0.426192</td>\n",
       "      <td>1.0</td>\n",
       "      <td>4.000</td>\n",
       "      <td>4.3</td>\n",
       "      <td>4.400</td>\n",
       "      <td>5.0</td>\n",
       "    </tr>\n",
       "    <tr>\n",
       "      <th>DATING</th>\n",
       "      <td>234.0</td>\n",
       "      <td>1.129533e+06</td>\n",
       "      <td>2.673457e+06</td>\n",
       "      <td>1.0</td>\n",
       "      <td>1000.0</td>\n",
       "      <td>100000.0</td>\n",
       "      <td>500000.0</td>\n",
       "      <td>1.000000e+07</td>\n",
       "      <td>234.0</td>\n",
       "      <td>0.134316</td>\n",
       "      <td>...</td>\n",
       "      <td>0.0</td>\n",
       "      <td>7.99</td>\n",
       "      <td>195.0</td>\n",
       "      <td>3.970769</td>\n",
       "      <td>0.630510</td>\n",
       "      <td>1.0</td>\n",
       "      <td>3.700</td>\n",
       "      <td>4.1</td>\n",
       "      <td>4.400</td>\n",
       "      <td>5.0</td>\n",
       "    </tr>\n",
       "    <tr>\n",
       "      <th>EDUCATION</th>\n",
       "      <td>156.0</td>\n",
       "      <td>5.586231e+06</td>\n",
       "      <td>1.580886e+07</td>\n",
       "      <td>1000.0</td>\n",
       "      <td>500000.0</td>\n",
       "      <td>1000000.0</td>\n",
       "      <td>5000000.0</td>\n",
       "      <td>1.000000e+08</td>\n",
       "      <td>156.0</td>\n",
       "      <td>0.115128</td>\n",
       "      <td>...</td>\n",
       "      <td>0.0</td>\n",
       "      <td>5.99</td>\n",
       "      <td>155.0</td>\n",
       "      <td>4.389032</td>\n",
       "      <td>0.251894</td>\n",
       "      <td>3.5</td>\n",
       "      <td>4.200</td>\n",
       "      <td>4.4</td>\n",
       "      <td>4.600</td>\n",
       "      <td>4.9</td>\n",
       "    </tr>\n",
       "    <tr>\n",
       "      <th>ENTERTAINMENT</th>\n",
       "      <td>149.0</td>\n",
       "      <td>1.925611e+07</td>\n",
       "      <td>8.473043e+07</td>\n",
       "      <td>10000.0</td>\n",
       "      <td>1000000.0</td>\n",
       "      <td>5000000.0</td>\n",
       "      <td>10000000.0</td>\n",
       "      <td>1.000000e+09</td>\n",
       "      <td>149.0</td>\n",
       "      <td>0.053557</td>\n",
       "      <td>...</td>\n",
       "      <td>0.0</td>\n",
       "      <td>4.99</td>\n",
       "      <td>149.0</td>\n",
       "      <td>4.126174</td>\n",
       "      <td>0.302556</td>\n",
       "      <td>3.0</td>\n",
       "      <td>3.900</td>\n",
       "      <td>4.2</td>\n",
       "      <td>4.300</td>\n",
       "      <td>4.7</td>\n",
       "    </tr>\n",
       "    <tr>\n",
       "      <th>EVENTS</th>\n",
       "      <td>64.0</td>\n",
       "      <td>2.495806e+05</td>\n",
       "      <td>8.943732e+05</td>\n",
       "      <td>1.0</td>\n",
       "      <td>100.0</td>\n",
       "      <td>1000.0</td>\n",
       "      <td>100000.0</td>\n",
       "      <td>5.000000e+06</td>\n",
       "      <td>64.0</td>\n",
       "      <td>1.718594</td>\n",
       "      <td>...</td>\n",
       "      <td>0.0</td>\n",
       "      <td>109.99</td>\n",
       "      <td>45.0</td>\n",
       "      <td>4.435556</td>\n",
       "      <td>0.419499</td>\n",
       "      <td>2.9</td>\n",
       "      <td>4.200</td>\n",
       "      <td>4.5</td>\n",
       "      <td>4.700</td>\n",
       "      <td>5.0</td>\n",
       "    </tr>\n",
       "    <tr>\n",
       "      <th>FAMILY</th>\n",
       "      <td>1972.0</td>\n",
       "      <td>5.201959e+06</td>\n",
       "      <td>3.274068e+07</td>\n",
       "      <td>0.0</td>\n",
       "      <td>1000.0</td>\n",
       "      <td>100000.0</td>\n",
       "      <td>1000000.0</td>\n",
       "      <td>1.000000e+09</td>\n",
       "      <td>1972.0</td>\n",
       "      <td>1.234675</td>\n",
       "      <td>...</td>\n",
       "      <td>0.0</td>\n",
       "      <td>399.99</td>\n",
       "      <td>1747.0</td>\n",
       "      <td>4.192272</td>\n",
       "      <td>0.508026</td>\n",
       "      <td>1.0</td>\n",
       "      <td>4.000</td>\n",
       "      <td>4.3</td>\n",
       "      <td>4.500</td>\n",
       "      <td>5.0</td>\n",
       "    </tr>\n",
       "    <tr>\n",
       "      <th>FINANCE</th>\n",
       "      <td>366.0</td>\n",
       "      <td>2.395215e+06</td>\n",
       "      <td>1.114877e+07</td>\n",
       "      <td>0.0</td>\n",
       "      <td>5000.0</td>\n",
       "      <td>50000.0</td>\n",
       "      <td>1000000.0</td>\n",
       "      <td>1.000000e+08</td>\n",
       "      <td>366.0</td>\n",
       "      <td>7.925765</td>\n",
       "      <td>...</td>\n",
       "      <td>0.0</td>\n",
       "      <td>399.99</td>\n",
       "      <td>323.0</td>\n",
       "      <td>4.131889</td>\n",
       "      <td>0.642108</td>\n",
       "      <td>1.0</td>\n",
       "      <td>4.000</td>\n",
       "      <td>4.3</td>\n",
       "      <td>4.500</td>\n",
       "      <td>5.0</td>\n",
       "    </tr>\n",
       "    <tr>\n",
       "      <th>FOOD_AND_DRINK</th>\n",
       "      <td>127.0</td>\n",
       "      <td>2.156683e+06</td>\n",
       "      <td>3.414777e+06</td>\n",
       "      <td>1.0</td>\n",
       "      <td>50000.0</td>\n",
       "      <td>500000.0</td>\n",
       "      <td>1000000.0</td>\n",
       "      <td>1.000000e+07</td>\n",
       "      <td>127.0</td>\n",
       "      <td>0.066772</td>\n",
       "      <td>...</td>\n",
       "      <td>0.0</td>\n",
       "      <td>4.99</td>\n",
       "      <td>109.0</td>\n",
       "      <td>4.166972</td>\n",
       "      <td>0.548070</td>\n",
       "      <td>1.7</td>\n",
       "      <td>4.000</td>\n",
       "      <td>4.3</td>\n",
       "      <td>4.500</td>\n",
       "      <td>5.0</td>\n",
       "    </tr>\n",
       "    <tr>\n",
       "      <th>GAME</th>\n",
       "      <td>1144.0</td>\n",
       "      <td>3.066960e+07</td>\n",
       "      <td>9.697630e+07</td>\n",
       "      <td>1.0</td>\n",
       "      <td>100000.0</td>\n",
       "      <td>1000000.0</td>\n",
       "      <td>10000000.0</td>\n",
       "      <td>1.000000e+09</td>\n",
       "      <td>1144.0</td>\n",
       "      <td>0.251136</td>\n",
       "      <td>...</td>\n",
       "      <td>0.0</td>\n",
       "      <td>17.99</td>\n",
       "      <td>1097.0</td>\n",
       "      <td>4.286326</td>\n",
       "      <td>0.365375</td>\n",
       "      <td>1.0</td>\n",
       "      <td>4.100</td>\n",
       "      <td>4.4</td>\n",
       "      <td>4.500</td>\n",
       "      <td>5.0</td>\n",
       "    </tr>\n",
       "    <tr>\n",
       "      <th>HEALTH_AND_FITNESS</th>\n",
       "      <td>341.0</td>\n",
       "      <td>4.642441e+06</td>\n",
       "      <td>2.822451e+07</td>\n",
       "      <td>1.0</td>\n",
       "      <td>5000.0</td>\n",
       "      <td>500000.0</td>\n",
       "      <td>5000000.0</td>\n",
       "      <td>5.000000e+08</td>\n",
       "      <td>341.0</td>\n",
       "      <td>0.197478</td>\n",
       "      <td>...</td>\n",
       "      <td>0.0</td>\n",
       "      <td>9.99</td>\n",
       "      <td>297.0</td>\n",
       "      <td>4.277104</td>\n",
       "      <td>0.617822</td>\n",
       "      <td>1.4</td>\n",
       "      <td>4.100</td>\n",
       "      <td>4.5</td>\n",
       "      <td>4.600</td>\n",
       "      <td>5.0</td>\n",
       "    </tr>\n",
       "    <tr>\n",
       "      <th>HOUSE_AND_HOME</th>\n",
       "      <td>88.0</td>\n",
       "      <td>1.917187e+06</td>\n",
       "      <td>3.271612e+06</td>\n",
       "      <td>1.0</td>\n",
       "      <td>100000.0</td>\n",
       "      <td>500000.0</td>\n",
       "      <td>1000000.0</td>\n",
       "      <td>1.000000e+07</td>\n",
       "      <td>88.0</td>\n",
       "      <td>0.000000</td>\n",
       "      <td>...</td>\n",
       "      <td>0.0</td>\n",
       "      <td>0.00</td>\n",
       "      <td>76.0</td>\n",
       "      <td>4.197368</td>\n",
       "      <td>0.368411</td>\n",
       "      <td>2.8</td>\n",
       "      <td>4.000</td>\n",
       "      <td>4.3</td>\n",
       "      <td>4.500</td>\n",
       "      <td>4.8</td>\n",
       "    </tr>\n",
       "    <tr>\n",
       "      <th>LIBRARIES_AND_DEMO</th>\n",
       "      <td>85.0</td>\n",
       "      <td>7.411284e+05</td>\n",
       "      <td>2.217279e+06</td>\n",
       "      <td>10.0</td>\n",
       "      <td>5000.0</td>\n",
       "      <td>10000.0</td>\n",
       "      <td>100000.0</td>\n",
       "      <td>1.000000e+07</td>\n",
       "      <td>85.0</td>\n",
       "      <td>0.011647</td>\n",
       "      <td>...</td>\n",
       "      <td>0.0</td>\n",
       "      <td>0.99</td>\n",
       "      <td>65.0</td>\n",
       "      <td>4.178462</td>\n",
       "      <td>0.378522</td>\n",
       "      <td>3.1</td>\n",
       "      <td>4.000</td>\n",
       "      <td>4.2</td>\n",
       "      <td>4.400</td>\n",
       "      <td>5.0</td>\n",
       "    </tr>\n",
       "    <tr>\n",
       "      <th>LIFESTYLE</th>\n",
       "      <td>383.0</td>\n",
       "      <td>1.403772e+06</td>\n",
       "      <td>6.186883e+06</td>\n",
       "      <td>0.0</td>\n",
       "      <td>1000.0</td>\n",
       "      <td>10000.0</td>\n",
       "      <td>500000.0</td>\n",
       "      <td>1.000000e+08</td>\n",
       "      <td>383.0</td>\n",
       "      <td>6.164151</td>\n",
       "      <td>...</td>\n",
       "      <td>0.0</td>\n",
       "      <td>400.00</td>\n",
       "      <td>315.0</td>\n",
       "      <td>4.087937</td>\n",
       "      <td>0.703753</td>\n",
       "      <td>1.5</td>\n",
       "      <td>3.800</td>\n",
       "      <td>4.2</td>\n",
       "      <td>4.600</td>\n",
       "      <td>5.0</td>\n",
       "    </tr>\n",
       "    <tr>\n",
       "      <th>MAPS_AND_NAVIGATION</th>\n",
       "      <td>137.0</td>\n",
       "      <td>5.286729e+06</td>\n",
       "      <td>1.772395e+07</td>\n",
       "      <td>10.0</td>\n",
       "      <td>5000.0</td>\n",
       "      <td>100000.0</td>\n",
       "      <td>1000000.0</td>\n",
       "      <td>1.000000e+08</td>\n",
       "      <td>137.0</td>\n",
       "      <td>0.196715</td>\n",
       "      <td>...</td>\n",
       "      <td>0.0</td>\n",
       "      <td>11.99</td>\n",
       "      <td>124.0</td>\n",
       "      <td>4.051613</td>\n",
       "      <td>0.519926</td>\n",
       "      <td>1.9</td>\n",
       "      <td>3.775</td>\n",
       "      <td>4.2</td>\n",
       "      <td>4.400</td>\n",
       "      <td>4.9</td>\n",
       "    </tr>\n",
       "    <tr>\n",
       "      <th>MEDICAL</th>\n",
       "      <td>463.0</td>\n",
       "      <td>1.150269e+05</td>\n",
       "      <td>4.564040e+05</td>\n",
       "      <td>0.0</td>\n",
       "      <td>100.0</td>\n",
       "      <td>1000.0</td>\n",
       "      <td>50000.0</td>\n",
       "      <td>5.000000e+06</td>\n",
       "      <td>463.0</td>\n",
       "      <td>3.110065</td>\n",
       "      <td>...</td>\n",
       "      <td>0.0</td>\n",
       "      <td>200.00</td>\n",
       "      <td>350.0</td>\n",
       "      <td>4.189143</td>\n",
       "      <td>0.663581</td>\n",
       "      <td>1.0</td>\n",
       "      <td>4.000</td>\n",
       "      <td>4.3</td>\n",
       "      <td>4.600</td>\n",
       "      <td>5.0</td>\n",
       "    </tr>\n",
       "    <tr>\n",
       "      <th>NEWS_AND_MAGAZINES</th>\n",
       "      <td>283.0</td>\n",
       "      <td>2.648876e+07</td>\n",
       "      <td>1.371882e+08</td>\n",
       "      <td>0.0</td>\n",
       "      <td>1000.0</td>\n",
       "      <td>100000.0</td>\n",
       "      <td>1000000.0</td>\n",
       "      <td>1.000000e+09</td>\n",
       "      <td>283.0</td>\n",
       "      <td>0.014064</td>\n",
       "      <td>...</td>\n",
       "      <td>0.0</td>\n",
       "      <td>2.99</td>\n",
       "      <td>233.0</td>\n",
       "      <td>4.132189</td>\n",
       "      <td>0.536707</td>\n",
       "      <td>1.7</td>\n",
       "      <td>3.900</td>\n",
       "      <td>4.2</td>\n",
       "      <td>4.500</td>\n",
       "      <td>5.0</td>\n",
       "    </tr>\n",
       "    <tr>\n",
       "      <th>PARENTING</th>\n",
       "      <td>60.0</td>\n",
       "      <td>5.253518e+05</td>\n",
       "      <td>1.440130e+06</td>\n",
       "      <td>10.0</td>\n",
       "      <td>10000.0</td>\n",
       "      <td>100000.0</td>\n",
       "      <td>625000.0</td>\n",
       "      <td>1.000000e+07</td>\n",
       "      <td>60.0</td>\n",
       "      <td>0.159667</td>\n",
       "      <td>...</td>\n",
       "      <td>0.0</td>\n",
       "      <td>4.99</td>\n",
       "      <td>50.0</td>\n",
       "      <td>4.300000</td>\n",
       "      <td>0.517845</td>\n",
       "      <td>2.0</td>\n",
       "      <td>4.100</td>\n",
       "      <td>4.4</td>\n",
       "      <td>4.675</td>\n",
       "      <td>5.0</td>\n",
       "    </tr>\n",
       "    <tr>\n",
       "      <th>PERSONALIZATION</th>\n",
       "      <td>392.0</td>\n",
       "      <td>5.932385e+06</td>\n",
       "      <td>1.961140e+07</td>\n",
       "      <td>0.0</td>\n",
       "      <td>500.0</td>\n",
       "      <td>10000.0</td>\n",
       "      <td>1000000.0</td>\n",
       "      <td>1.000000e+08</td>\n",
       "      <td>392.0</td>\n",
       "      <td>0.392755</td>\n",
       "      <td>...</td>\n",
       "      <td>0.0</td>\n",
       "      <td>9.99</td>\n",
       "      <td>314.0</td>\n",
       "      <td>4.335987</td>\n",
       "      <td>0.352732</td>\n",
       "      <td>2.5</td>\n",
       "      <td>4.200</td>\n",
       "      <td>4.4</td>\n",
       "      <td>4.600</td>\n",
       "      <td>5.0</td>\n",
       "    </tr>\n",
       "    <tr>\n",
       "      <th>PHOTOGRAPHY</th>\n",
       "      <td>335.0</td>\n",
       "      <td>3.011417e+07</td>\n",
       "      <td>1.114914e+08</td>\n",
       "      <td>5.0</td>\n",
       "      <td>100000.0</td>\n",
       "      <td>5000000.0</td>\n",
       "      <td>10000000.0</td>\n",
       "      <td>1.000000e+09</td>\n",
       "      <td>335.0</td>\n",
       "      <td>0.400627</td>\n",
       "      <td>...</td>\n",
       "      <td>0.0</td>\n",
       "      <td>29.99</td>\n",
       "      <td>317.0</td>\n",
       "      <td>4.192114</td>\n",
       "      <td>0.462896</td>\n",
       "      <td>2.0</td>\n",
       "      <td>4.000</td>\n",
       "      <td>4.3</td>\n",
       "      <td>4.500</td>\n",
       "      <td>5.0</td>\n",
       "    </tr>\n",
       "    <tr>\n",
       "      <th>PRODUCTIVITY</th>\n",
       "      <td>424.0</td>\n",
       "      <td>3.343418e+07</td>\n",
       "      <td>1.234509e+08</td>\n",
       "      <td>0.0</td>\n",
       "      <td>1000.0</td>\n",
       "      <td>300000.0</td>\n",
       "      <td>10000000.0</td>\n",
       "      <td>1.000000e+09</td>\n",
       "      <td>424.0</td>\n",
       "      <td>0.591816</td>\n",
       "      <td>...</td>\n",
       "      <td>0.0</td>\n",
       "      <td>154.99</td>\n",
       "      <td>351.0</td>\n",
       "      <td>4.211396</td>\n",
       "      <td>0.504931</td>\n",
       "      <td>1.0</td>\n",
       "      <td>4.100</td>\n",
       "      <td>4.3</td>\n",
       "      <td>4.500</td>\n",
       "      <td>5.0</td>\n",
       "    </tr>\n",
       "    <tr>\n",
       "      <th>SHOPPING</th>\n",
       "      <td>260.0</td>\n",
       "      <td>1.249173e+07</td>\n",
       "      <td>2.663780e+07</td>\n",
       "      <td>5.0</td>\n",
       "      <td>100000.0</td>\n",
       "      <td>1000000.0</td>\n",
       "      <td>10000000.0</td>\n",
       "      <td>1.000000e+08</td>\n",
       "      <td>260.0</td>\n",
       "      <td>0.021077</td>\n",
       "      <td>...</td>\n",
       "      <td>0.0</td>\n",
       "      <td>2.99</td>\n",
       "      <td>238.0</td>\n",
       "      <td>4.259664</td>\n",
       "      <td>0.404577</td>\n",
       "      <td>1.6</td>\n",
       "      <td>4.100</td>\n",
       "      <td>4.3</td>\n",
       "      <td>4.500</td>\n",
       "      <td>5.0</td>\n",
       "    </tr>\n",
       "    <tr>\n",
       "      <th>SOCIAL</th>\n",
       "      <td>295.0</td>\n",
       "      <td>4.769447e+07</td>\n",
       "      <td>1.753477e+08</td>\n",
       "      <td>0.0</td>\n",
       "      <td>5000.0</td>\n",
       "      <td>1000000.0</td>\n",
       "      <td>10000000.0</td>\n",
       "      <td>1.000000e+09</td>\n",
       "      <td>295.0</td>\n",
       "      <td>0.054136</td>\n",
       "      <td>...</td>\n",
       "      <td>0.0</td>\n",
       "      <td>13.99</td>\n",
       "      <td>259.0</td>\n",
       "      <td>4.255598</td>\n",
       "      <td>0.413809</td>\n",
       "      <td>1.9</td>\n",
       "      <td>4.100</td>\n",
       "      <td>4.3</td>\n",
       "      <td>4.500</td>\n",
       "      <td>5.0</td>\n",
       "    </tr>\n",
       "    <tr>\n",
       "      <th>SPORTS</th>\n",
       "      <td>384.0</td>\n",
       "      <td>4.560350e+06</td>\n",
       "      <td>1.287584e+07</td>\n",
       "      <td>1.0</td>\n",
       "      <td>5000.0</td>\n",
       "      <td>100000.0</td>\n",
       "      <td>5000000.0</td>\n",
       "      <td>1.000000e+08</td>\n",
       "      <td>384.0</td>\n",
       "      <td>0.260417</td>\n",
       "      <td>...</td>\n",
       "      <td>0.0</td>\n",
       "      <td>29.99</td>\n",
       "      <td>319.0</td>\n",
       "      <td>4.223511</td>\n",
       "      <td>0.427857</td>\n",
       "      <td>1.5</td>\n",
       "      <td>4.100</td>\n",
       "      <td>4.3</td>\n",
       "      <td>4.500</td>\n",
       "      <td>5.0</td>\n",
       "    </tr>\n",
       "    <tr>\n",
       "      <th>TOOLS</th>\n",
       "      <td>843.0</td>\n",
       "      <td>1.358573e+07</td>\n",
       "      <td>7.246704e+07</td>\n",
       "      <td>1.0</td>\n",
       "      <td>1000.0</td>\n",
       "      <td>50000.0</td>\n",
       "      <td>1000000.0</td>\n",
       "      <td>1.000000e+09</td>\n",
       "      <td>843.0</td>\n",
       "      <td>0.317023</td>\n",
       "      <td>...</td>\n",
       "      <td>0.0</td>\n",
       "      <td>25.99</td>\n",
       "      <td>734.0</td>\n",
       "      <td>4.047411</td>\n",
       "      <td>0.616143</td>\n",
       "      <td>1.0</td>\n",
       "      <td>3.800</td>\n",
       "      <td>4.2</td>\n",
       "      <td>4.400</td>\n",
       "      <td>5.0</td>\n",
       "    </tr>\n",
       "    <tr>\n",
       "      <th>TRAVEL_AND_LOCAL</th>\n",
       "      <td>258.0</td>\n",
       "      <td>2.662359e+07</td>\n",
       "      <td>1.385938e+08</td>\n",
       "      <td>0.0</td>\n",
       "      <td>10000.0</td>\n",
       "      <td>1000000.0</td>\n",
       "      <td>5000000.0</td>\n",
       "      <td>1.000000e+09</td>\n",
       "      <td>258.0</td>\n",
       "      <td>0.193605</td>\n",
       "      <td>...</td>\n",
       "      <td>0.0</td>\n",
       "      <td>8.99</td>\n",
       "      <td>226.0</td>\n",
       "      <td>4.109292</td>\n",
       "      <td>0.504691</td>\n",
       "      <td>2.2</td>\n",
       "      <td>3.900</td>\n",
       "      <td>4.3</td>\n",
       "      <td>4.400</td>\n",
       "      <td>5.0</td>\n",
       "    </tr>\n",
       "    <tr>\n",
       "      <th>VIDEO_PLAYERS</th>\n",
       "      <td>175.0</td>\n",
       "      <td>3.555430e+07</td>\n",
       "      <td>1.446258e+08</td>\n",
       "      <td>10.0</td>\n",
       "      <td>10000.0</td>\n",
       "      <td>1000000.0</td>\n",
       "      <td>10000000.0</td>\n",
       "      <td>1.000000e+09</td>\n",
       "      <td>175.0</td>\n",
       "      <td>0.059771</td>\n",
       "      <td>...</td>\n",
       "      <td>0.0</td>\n",
       "      <td>5.99</td>\n",
       "      <td>160.0</td>\n",
       "      <td>4.063750</td>\n",
       "      <td>0.551098</td>\n",
       "      <td>1.8</td>\n",
       "      <td>3.800</td>\n",
       "      <td>4.2</td>\n",
       "      <td>4.400</td>\n",
       "      <td>4.9</td>\n",
       "    </tr>\n",
       "    <tr>\n",
       "      <th>WEATHER</th>\n",
       "      <td>82.0</td>\n",
       "      <td>5.196348e+06</td>\n",
       "      <td>1.197154e+07</td>\n",
       "      <td>10.0</td>\n",
       "      <td>100000.0</td>\n",
       "      <td>1000000.0</td>\n",
       "      <td>5000000.0</td>\n",
       "      <td>5.000000e+07</td>\n",
       "      <td>82.0</td>\n",
       "      <td>0.395366</td>\n",
       "      <td>...</td>\n",
       "      <td>0.0</td>\n",
       "      <td>6.99</td>\n",
       "      <td>75.0</td>\n",
       "      <td>4.244000</td>\n",
       "      <td>0.331353</td>\n",
       "      <td>3.3</td>\n",
       "      <td>4.050</td>\n",
       "      <td>4.3</td>\n",
       "      <td>4.500</td>\n",
       "      <td>4.8</td>\n",
       "    </tr>\n",
       "  </tbody>\n",
       "</table>\n",
       "<p>33 rows × 24 columns</p>\n",
       "</div>"
      ],
      "text/plain": [
       "                    Installs                                                  \\\n",
       "                       count          mean           std      min        25%   \n",
       "Category                                                                       \n",
       "ART_AND_DESIGN          65.0  1.912894e+06  6.664810e+06      0.0    10000.0   \n",
       "AUTO_AND_VEHICLES       85.0  6.250613e+05  1.746710e+06      1.0     1000.0   \n",
       "BEAUTY                  53.0  5.131519e+05  1.523140e+06     50.0    10000.0   \n",
       "BOOKS_AND_REFERENCE    231.0  8.318050e+06  6.745986e+07      1.0     1000.0   \n",
       "BUSINESS               460.0  2.178076e+06  1.019870e+07      0.0      100.0   \n",
       "COMICS                  60.0  9.347692e+05  2.103069e+06     50.0    10000.0   \n",
       "COMMUNICATION          387.0  8.435989e+07  2.327870e+08      1.0     5000.0   \n",
       "DATING                 234.0  1.129533e+06  2.673457e+06      1.0     1000.0   \n",
       "EDUCATION              156.0  5.586231e+06  1.580886e+07   1000.0   500000.0   \n",
       "ENTERTAINMENT          149.0  1.925611e+07  8.473043e+07  10000.0  1000000.0   \n",
       "EVENTS                  64.0  2.495806e+05  8.943732e+05      1.0      100.0   \n",
       "FAMILY                1972.0  5.201959e+06  3.274068e+07      0.0     1000.0   \n",
       "FINANCE                366.0  2.395215e+06  1.114877e+07      0.0     5000.0   \n",
       "FOOD_AND_DRINK         127.0  2.156683e+06  3.414777e+06      1.0    50000.0   \n",
       "GAME                  1144.0  3.066960e+07  9.697630e+07      1.0   100000.0   \n",
       "HEALTH_AND_FITNESS     341.0  4.642441e+06  2.822451e+07      1.0     5000.0   \n",
       "HOUSE_AND_HOME          88.0  1.917187e+06  3.271612e+06      1.0   100000.0   \n",
       "LIBRARIES_AND_DEMO      85.0  7.411284e+05  2.217279e+06     10.0     5000.0   \n",
       "LIFESTYLE              383.0  1.403772e+06  6.186883e+06      0.0     1000.0   \n",
       "MAPS_AND_NAVIGATION    137.0  5.286729e+06  1.772395e+07     10.0     5000.0   \n",
       "MEDICAL                463.0  1.150269e+05  4.564040e+05      0.0      100.0   \n",
       "NEWS_AND_MAGAZINES     283.0  2.648876e+07  1.371882e+08      0.0     1000.0   \n",
       "PARENTING               60.0  5.253518e+05  1.440130e+06     10.0    10000.0   \n",
       "PERSONALIZATION        392.0  5.932385e+06  1.961140e+07      0.0      500.0   \n",
       "PHOTOGRAPHY            335.0  3.011417e+07  1.114914e+08      5.0   100000.0   \n",
       "PRODUCTIVITY           424.0  3.343418e+07  1.234509e+08      0.0     1000.0   \n",
       "SHOPPING               260.0  1.249173e+07  2.663780e+07      5.0   100000.0   \n",
       "SOCIAL                 295.0  4.769447e+07  1.753477e+08      0.0     5000.0   \n",
       "SPORTS                 384.0  4.560350e+06  1.287584e+07      1.0     5000.0   \n",
       "TOOLS                  843.0  1.358573e+07  7.246704e+07      1.0     1000.0   \n",
       "TRAVEL_AND_LOCAL       258.0  2.662359e+07  1.385938e+08      0.0    10000.0   \n",
       "VIDEO_PLAYERS          175.0  3.555430e+07  1.446258e+08     10.0    10000.0   \n",
       "WEATHER                 82.0  5.196348e+06  1.197154e+07     10.0   100000.0   \n",
       "\n",
       "                                                           Price            \\\n",
       "                           50%         75%           max   count      mean   \n",
       "Category                                                                     \n",
       "ART_AND_DESIGN        100000.0    500000.0  5.000000e+07    65.0  0.091846   \n",
       "AUTO_AND_VEHICLES     100000.0    500000.0  1.000000e+07    85.0  0.158471   \n",
       "BEAUTY                 50000.0    500000.0  1.000000e+07    53.0  0.000000   \n",
       "BOOKS_AND_REFERENCE    10000.0   1000000.0  1.000000e+09   231.0  0.518485   \n",
       "BUSINESS                1000.0    100000.0  1.000000e+08   460.0  0.402761   \n",
       "COMICS                100000.0   1000000.0  1.000000e+07    60.0  0.000000   \n",
       "COMMUNICATION        1000000.0  10000000.0  1.000000e+09   387.0  0.214832   \n",
       "DATING                100000.0    500000.0  1.000000e+07   234.0  0.134316   \n",
       "EDUCATION            1000000.0   5000000.0  1.000000e+08   156.0  0.115128   \n",
       "ENTERTAINMENT        5000000.0  10000000.0  1.000000e+09   149.0  0.053557   \n",
       "EVENTS                  1000.0    100000.0  5.000000e+06    64.0  1.718594   \n",
       "FAMILY                100000.0   1000000.0  1.000000e+09  1972.0  1.234675   \n",
       "FINANCE                50000.0   1000000.0  1.000000e+08   366.0  7.925765   \n",
       "FOOD_AND_DRINK        500000.0   1000000.0  1.000000e+07   127.0  0.066772   \n",
       "GAME                 1000000.0  10000000.0  1.000000e+09  1144.0  0.251136   \n",
       "HEALTH_AND_FITNESS    500000.0   5000000.0  5.000000e+08   341.0  0.197478   \n",
       "HOUSE_AND_HOME        500000.0   1000000.0  1.000000e+07    88.0  0.000000   \n",
       "LIBRARIES_AND_DEMO     10000.0    100000.0  1.000000e+07    85.0  0.011647   \n",
       "LIFESTYLE              10000.0    500000.0  1.000000e+08   383.0  6.164151   \n",
       "MAPS_AND_NAVIGATION   100000.0   1000000.0  1.000000e+08   137.0  0.196715   \n",
       "MEDICAL                 1000.0     50000.0  5.000000e+06   463.0  3.110065   \n",
       "NEWS_AND_MAGAZINES    100000.0   1000000.0  1.000000e+09   283.0  0.014064   \n",
       "PARENTING             100000.0    625000.0  1.000000e+07    60.0  0.159667   \n",
       "PERSONALIZATION        10000.0   1000000.0  1.000000e+08   392.0  0.392755   \n",
       "PHOTOGRAPHY          5000000.0  10000000.0  1.000000e+09   335.0  0.400627   \n",
       "PRODUCTIVITY          300000.0  10000000.0  1.000000e+09   424.0  0.591816   \n",
       "SHOPPING             1000000.0  10000000.0  1.000000e+08   260.0  0.021077   \n",
       "SOCIAL               1000000.0  10000000.0  1.000000e+09   295.0  0.054136   \n",
       "SPORTS                100000.0   5000000.0  1.000000e+08   384.0  0.260417   \n",
       "TOOLS                  50000.0   1000000.0  1.000000e+09   843.0  0.317023   \n",
       "TRAVEL_AND_LOCAL     1000000.0   5000000.0  1.000000e+09   258.0  0.193605   \n",
       "VIDEO_PLAYERS        1000000.0  10000000.0  1.000000e+09   175.0  0.059771   \n",
       "WEATHER              1000000.0   5000000.0  5.000000e+07    82.0  0.395366   \n",
       "\n",
       "                    ...                Rating                                  \\\n",
       "                    ...   75%     max   count      mean       std  min    25%   \n",
       "Category            ...                                                         \n",
       "ART_AND_DESIGN      ...   0.0    1.99    62.0  4.358065  0.358297  3.2  4.100   \n",
       "AUTO_AND_VEHICLES   ...   0.0    9.99    73.0  4.190411  0.543692  2.1  4.000   \n",
       "BEAUTY              ...   0.0    0.00    42.0  4.278571  0.362603  3.1  4.000   \n",
       "BOOKS_AND_REFERENCE ...   0.0    6.49   178.0  4.346067  0.429046  2.7  4.100   \n",
       "BUSINESS            ...   0.0   89.99   303.0  4.121452  0.624422  1.0  3.900   \n",
       "COMICS              ...   0.0    0.00    58.0  4.155172  0.537758  2.8  3.825   \n",
       "COMMUNICATION       ...   0.0   19.99   328.0  4.158537  0.426192  1.0  4.000   \n",
       "DATING              ...   0.0    7.99   195.0  3.970769  0.630510  1.0  3.700   \n",
       "EDUCATION           ...   0.0    5.99   155.0  4.389032  0.251894  3.5  4.200   \n",
       "ENTERTAINMENT       ...   0.0    4.99   149.0  4.126174  0.302556  3.0  3.900   \n",
       "EVENTS              ...   0.0  109.99    45.0  4.435556  0.419499  2.9  4.200   \n",
       "FAMILY              ...   0.0  399.99  1747.0  4.192272  0.508026  1.0  4.000   \n",
       "FINANCE             ...   0.0  399.99   323.0  4.131889  0.642108  1.0  4.000   \n",
       "FOOD_AND_DRINK      ...   0.0    4.99   109.0  4.166972  0.548070  1.7  4.000   \n",
       "GAME                ...   0.0   17.99  1097.0  4.286326  0.365375  1.0  4.100   \n",
       "HEALTH_AND_FITNESS  ...   0.0    9.99   297.0  4.277104  0.617822  1.4  4.100   \n",
       "HOUSE_AND_HOME      ...   0.0    0.00    76.0  4.197368  0.368411  2.8  4.000   \n",
       "LIBRARIES_AND_DEMO  ...   0.0    0.99    65.0  4.178462  0.378522  3.1  4.000   \n",
       "LIFESTYLE           ...   0.0  400.00   315.0  4.087937  0.703753  1.5  3.800   \n",
       "MAPS_AND_NAVIGATION ...   0.0   11.99   124.0  4.051613  0.519926  1.9  3.775   \n",
       "MEDICAL             ...   0.0  200.00   350.0  4.189143  0.663581  1.0  4.000   \n",
       "NEWS_AND_MAGAZINES  ...   0.0    2.99   233.0  4.132189  0.536707  1.7  3.900   \n",
       "PARENTING           ...   0.0    4.99    50.0  4.300000  0.517845  2.0  4.100   \n",
       "PERSONALIZATION     ...   0.0    9.99   314.0  4.335987  0.352732  2.5  4.200   \n",
       "PHOTOGRAPHY         ...   0.0   29.99   317.0  4.192114  0.462896  2.0  4.000   \n",
       "PRODUCTIVITY        ...   0.0  154.99   351.0  4.211396  0.504931  1.0  4.100   \n",
       "SHOPPING            ...   0.0    2.99   238.0  4.259664  0.404577  1.6  4.100   \n",
       "SOCIAL              ...   0.0   13.99   259.0  4.255598  0.413809  1.9  4.100   \n",
       "SPORTS              ...   0.0   29.99   319.0  4.223511  0.427857  1.5  4.100   \n",
       "TOOLS               ...   0.0   25.99   734.0  4.047411  0.616143  1.0  3.800   \n",
       "TRAVEL_AND_LOCAL    ...   0.0    8.99   226.0  4.109292  0.504691  2.2  3.900   \n",
       "VIDEO_PLAYERS       ...   0.0    5.99   160.0  4.063750  0.551098  1.8  3.800   \n",
       "WEATHER             ...   0.0    6.99    75.0  4.244000  0.331353  3.3  4.050   \n",
       "\n",
       "                                      \n",
       "                     50%    75%  max  \n",
       "Category                              \n",
       "ART_AND_DESIGN       4.4  4.700  5.0  \n",
       "AUTO_AND_VEHICLES    4.3  4.600  4.9  \n",
       "BEAUTY               4.3  4.575  4.9  \n",
       "BOOKS_AND_REFERENCE  4.5  4.600  5.0  \n",
       "BUSINESS             4.3  4.500  5.0  \n",
       "COMICS               4.4  4.500  5.0  \n",
       "COMMUNICATION        4.3  4.400  5.0  \n",
       "DATING               4.1  4.400  5.0  \n",
       "EDUCATION            4.4  4.600  4.9  \n",
       "ENTERTAINMENT        4.2  4.300  4.7  \n",
       "EVENTS               4.5  4.700  5.0  \n",
       "FAMILY               4.3  4.500  5.0  \n",
       "FINANCE              4.3  4.500  5.0  \n",
       "FOOD_AND_DRINK       4.3  4.500  5.0  \n",
       "GAME                 4.4  4.500  5.0  \n",
       "HEALTH_AND_FITNESS   4.5  4.600  5.0  \n",
       "HOUSE_AND_HOME       4.3  4.500  4.8  \n",
       "LIBRARIES_AND_DEMO   4.2  4.400  5.0  \n",
       "LIFESTYLE            4.2  4.600  5.0  \n",
       "MAPS_AND_NAVIGATION  4.2  4.400  4.9  \n",
       "MEDICAL              4.3  4.600  5.0  \n",
       "NEWS_AND_MAGAZINES   4.2  4.500  5.0  \n",
       "PARENTING            4.4  4.675  5.0  \n",
       "PERSONALIZATION      4.4  4.600  5.0  \n",
       "PHOTOGRAPHY          4.3  4.500  5.0  \n",
       "PRODUCTIVITY         4.3  4.500  5.0  \n",
       "SHOPPING             4.3  4.500  5.0  \n",
       "SOCIAL               4.3  4.500  5.0  \n",
       "SPORTS               4.3  4.500  5.0  \n",
       "TOOLS                4.2  4.400  5.0  \n",
       "TRAVEL_AND_LOCAL     4.3  4.400  5.0  \n",
       "VIDEO_PLAYERS        4.2  4.400  4.9  \n",
       "WEATHER              4.3  4.500  4.8  \n",
       "\n",
       "[33 rows x 24 columns]"
      ]
     },
     "execution_count": 38,
     "metadata": {},
     "output_type": "execute_result"
    }
   ],
   "source": [
    "df.to_pickle(\"cleaned_app_store_data\") #Storing cleaned data to a new file\n",
    "df = pd.read_pickle(\"cleaned_app_store_data\") #Reading data from new file\n",
    "df[\"Category\"].unique() # This allows me to check if there are any incorrect values in Category\n",
    "df.groupby(\"Category\").describe()"
   ]
  },
  {
   "cell_type": "markdown",
   "metadata": {},
   "source": [
    "# c) Identify factors and target in your dataset. HomePriceK was target in housing dataset.\n",
    "\n"
   ]
  },
  {
   "cell_type": "markdown",
   "metadata": {},
   "source": [
    "My Target for Google Play Store App data set is \"Installs\""
   ]
  },
  {
   "cell_type": "code",
   "execution_count": 21,
   "metadata": {},
   "outputs": [
    {
     "name": "stdout",
     "output_type": "stream",
     "text": [
      "Correlation between Installs and Rating is 0.051393360819425915\n"
     ]
    }
   ],
   "source": [
    "# Finding relation between Installs and Rating:\n",
    "Eight = df[\"Installs\"].corr(df[\"Rating\"])\n",
    "print(\"Correlation between Installs and Rating is\",Eight) # very weakly correlated"
   ]
  },
  {
   "cell_type": "code",
   "execution_count": 39,
   "metadata": {},
   "outputs": [
    {
     "name": "stdout",
     "output_type": "stream",
     "text": [
      "Correlation between Price and Installs is -0.011688369776778337\n"
     ]
    }
   ],
   "source": [
    "\n",
    "Nine = df[\"Price\"].corr(df[\"Installs\"])\n",
    "print(\"Correlation between Price and Installs is\",Nine) #  very weakly correlated"
   ]
  },
  {
   "cell_type": "code",
   "execution_count": 40,
   "metadata": {},
   "outputs": [
    {
     "data": {
      "text/plain": [
       "Index(['App', 'Category', 'Rating', 'Reviews', 'Size', 'Installs', 'Price',\n",
       "       'Content Rating', 'Genres', 'Last Updated', 'Android Ver'],\n",
       "      dtype='object')"
      ]
     },
     "execution_count": 40,
     "metadata": {},
     "output_type": "execute_result"
    }
   ],
   "source": [
    "df.columns"
   ]
  },
  {
   "cell_type": "code",
   "execution_count": 41,
   "metadata": {},
   "outputs": [
    {
     "data": {
      "text/plain": [
       "count    9367.000000\n",
       "mean        4.191513\n",
       "std         0.515735\n",
       "min         1.000000\n",
       "25%         4.000000\n",
       "50%         4.300000\n",
       "75%         4.500000\n",
       "max         5.000000\n",
       "Name: Rating, dtype: float64"
      ]
     },
     "execution_count": 41,
     "metadata": {},
     "output_type": "execute_result"
    }
   ],
   "source": [
    "df[\"Rating\"].describe()"
   ]
  },
  {
   "cell_type": "code",
   "execution_count": 42,
   "metadata": {},
   "outputs": [
    {
     "data": {
      "text/plain": [
       "count    1.084100e+04\n",
       "mean     1.546291e+07\n",
       "std      8.502557e+07\n",
       "min      0.000000e+00\n",
       "25%      1.000000e+03\n",
       "50%      1.000000e+05\n",
       "75%      5.000000e+06\n",
       "max      1.000000e+09\n",
       "Name: Installs, dtype: float64"
      ]
     },
     "execution_count": 42,
     "metadata": {},
     "output_type": "execute_result"
    }
   ],
   "source": [
    "df[\"Installs\"].describe()"
   ]
  },
  {
   "cell_type": "code",
   "execution_count": 43,
   "metadata": {},
   "outputs": [
    {
     "data": {
      "text/plain": [
       "count      10841\n",
       "unique        33\n",
       "top       FAMILY\n",
       "freq        1972\n",
       "Name: Category, dtype: object"
      ]
     },
     "execution_count": 43,
     "metadata": {},
     "output_type": "execute_result"
    }
   ],
   "source": [
    "df[\"Category\"].describe()"
   ]
  },
  {
   "cell_type": "code",
   "execution_count": 44,
   "metadata": {},
   "outputs": [
    {
     "name": "stdout",
     "output_type": "stream",
     "text": [
      "<class 'pandas.core.frame.DataFrame'>\n",
      "RangeIndex: 10841 entries, 0 to 10840\n",
      "Data columns (total 11 columns):\n",
      "App               10841 non-null object\n",
      "Category          10841 non-null object\n",
      "Rating            9367 non-null float64\n",
      "Reviews           10841 non-null object\n",
      "Size              10841 non-null object\n",
      "Installs          10841 non-null float64\n",
      "Price             10841 non-null float64\n",
      "Content Rating    10841 non-null object\n",
      "Genres            10841 non-null object\n",
      "Last Updated      10841 non-null object\n",
      "Android Ver       10839 non-null object\n",
      "dtypes: float64(3), object(8)\n",
      "memory usage: 931.7+ KB\n"
     ]
    }
   ],
   "source": [
    "df.info()"
   ]
  },
  {
   "cell_type": "code",
   "execution_count": 45,
   "metadata": {},
   "outputs": [
    {
     "data": {
      "text/plain": [
       "array(['ART_AND_DESIGN', 'AUTO_AND_VEHICLES', 'BEAUTY',\n",
       "       'BOOKS_AND_REFERENCE', 'BUSINESS', 'COMICS', 'COMMUNICATION',\n",
       "       'DATING', 'EDUCATION', 'ENTERTAINMENT', 'EVENTS', 'FINANCE',\n",
       "       'FOOD_AND_DRINK', 'HEALTH_AND_FITNESS', 'HOUSE_AND_HOME',\n",
       "       'LIBRARIES_AND_DEMO', 'LIFESTYLE', 'GAME', 'FAMILY', 'MEDICAL',\n",
       "       'SOCIAL', 'SHOPPING', 'PHOTOGRAPHY', 'SPORTS', 'TRAVEL_AND_LOCAL',\n",
       "       'TOOLS', 'PERSONALIZATION', 'PRODUCTIVITY', 'PARENTING', 'WEATHER',\n",
       "       'VIDEO_PLAYERS', 'NEWS_AND_MAGAZINES', 'MAPS_AND_NAVIGATION'],\n",
       "      dtype=object)"
      ]
     },
     "execution_count": 45,
     "metadata": {},
     "output_type": "execute_result"
    }
   ],
   "source": [
    "df['Category'].unique()"
   ]
  },
  {
   "cell_type": "code",
   "execution_count": 46,
   "metadata": {},
   "outputs": [
    {
     "data": {
      "text/plain": [
       "count    9367.000000\n",
       "mean        4.191513\n",
       "std         0.515735\n",
       "min         1.000000\n",
       "25%         4.000000\n",
       "50%         4.300000\n",
       "75%         4.500000\n",
       "max         5.000000\n",
       "Name: Rating, dtype: float64"
      ]
     },
     "execution_count": 46,
     "metadata": {},
     "output_type": "execute_result"
    }
   ],
   "source": [
    "df[\"Rating\"].describe()"
   ]
  },
  {
   "cell_type": "code",
   "execution_count": 47,
   "metadata": {},
   "outputs": [
    {
     "data": {
      "text/plain": [
       "count    1.084100e+04\n",
       "mean     1.546291e+07\n",
       "std      8.502557e+07\n",
       "min      0.000000e+00\n",
       "25%      1.000000e+03\n",
       "50%      1.000000e+05\n",
       "75%      5.000000e+06\n",
       "max      1.000000e+09\n",
       "Name: Installs, dtype: float64"
      ]
     },
     "execution_count": 47,
     "metadata": {},
     "output_type": "execute_result"
    }
   ],
   "source": [
    "df[\"Installs\"].describe()"
   ]
  },
  {
   "cell_type": "code",
   "execution_count": null,
   "metadata": {},
   "outputs": [],
   "source": [
    "#k =df.groupby(\"Category\")"
   ]
  },
  {
   "cell_type": "code",
   "execution_count": null,
   "metadata": {},
   "outputs": [],
   "source": [
    "df.Category.value_counts() # Values by Category"
   ]
  },
  {
   "cell_type": "markdown",
   "metadata": {},
   "source": [
    "Family,Games and Tools are the top 3 categories "
   ]
  },
  {
   "cell_type": "code",
   "execution_count": 52,
   "metadata": {},
   "outputs": [
    {
     "name": "stdout",
     "output_type": "stream",
     "text": [
      "                               sum        mean          amax\n",
      "Category                                                    \n",
      "ART_AND_DESIGN        124338100.00  1912893.85   50000000.00\n",
      "AUTO_AND_VEHICLES      53130211.00   625061.31   10000000.00\n",
      "BEAUTY                 27197050.00   513151.89   10000000.00\n",
      "BOOKS_AND_REFERENCE  1921469576.00  8318050.11 1000000000.00\n",
      "BUSINESS             1001914865.00  2178075.79  100000000.00\n",
      "COMICS                 56086150.00   934769.17   10000000.00\n",
      "COMMUNICATION       32647276251.00 84359886.95 1000000000.00\n",
      "DATING                264310807.00  1129533.36   10000000.00\n",
      "EDUCATION             871452000.00  5586230.77  100000000.00\n",
      "ENTERTAINMENT        2869160000.00 19256107.38 1000000000.00\n",
      "EVENTS                 15973161.00   249580.64    5000000.00\n",
      "FAMILY              10258263505.00  5201959.18 1000000000.00\n",
      "FINANCE               876648734.00  2395215.12  100000000.00\n",
      "FOOD_AND_DRINK        273898751.00  2156683.08   10000000.00\n",
      "GAME                35086024415.00 30669601.76 1000000000.00\n",
      "HEALTH_AND_FITNESS   1583072512.00  4642441.38  500000000.00\n",
      "HOUSE_AND_HOME        168712461.00  1917187.06   10000000.00\n",
      "LIBRARIES_AND_DEMO     62995910.00   741128.35   10000000.00\n",
      "LIFESTYLE             537644539.00  1403771.64  100000000.00\n",
      "MAPS_AND_NAVIGATION   724281890.00  5286729.12  100000000.00\n",
      "MEDICAL                53257437.00   115026.86    5000000.00\n",
      "NEWS_AND_MAGAZINES   7496317760.00 26488755.34 1000000000.00\n",
      "PARENTING              31521110.00   525351.83   10000000.00\n",
      "PERSONALIZATION      2325494782.00  5932384.65  100000000.00\n",
      "PHOTOGRAPHY         10088247655.00 30114172.10 1000000000.00\n",
      "PRODUCTIVITY        14176091369.00 33434177.76 1000000000.00\n",
      "SHOPPING             3247848785.00 12491726.10  100000000.00\n",
      "SOCIAL              14069867902.00 47694467.46 1000000000.00\n",
      "SPORTS               1751174498.00  4560350.26  100000000.00\n",
      "TOOLS               11452771915.00 13585731.81 1000000000.00\n",
      "TRAVEL_AND_LOCAL     6868887146.00 26623593.59 1000000000.00\n",
      "VIDEO_PLAYERS        6222002720.00 35554301.26 1000000000.00\n",
      "WEATHER               426100520.00  5196347.80   50000000.00\n"
     ]
    },
    {
     "data": {
      "text/html": [
       "<div>\n",
       "<style scoped>\n",
       "    .dataframe tbody tr th:only-of-type {\n",
       "        vertical-align: middle;\n",
       "    }\n",
       "\n",
       "    .dataframe tbody tr th {\n",
       "        vertical-align: top;\n",
       "    }\n",
       "\n",
       "    .dataframe thead th {\n",
       "        text-align: right;\n",
       "    }\n",
       "</style>\n",
       "<table border=\"1\" class=\"dataframe\">\n",
       "  <thead>\n",
       "    <tr style=\"text-align: right;\">\n",
       "      <th></th>\n",
       "      <th>sum</th>\n",
       "      <th>mean</th>\n",
       "      <th>amax</th>\n",
       "    </tr>\n",
       "  </thead>\n",
       "  <tbody>\n",
       "    <tr>\n",
       "      <th>count</th>\n",
       "      <td>33.00</td>\n",
       "      <td>33.00</td>\n",
       "      <td>33.00</td>\n",
       "    </tr>\n",
       "    <tr>\n",
       "      <th>mean</th>\n",
       "      <td>5079801045.06</td>\n",
       "      <td>12781649.84</td>\n",
       "      <td>408787878.79</td>\n",
       "    </tr>\n",
       "    <tr>\n",
       "      <th>std</th>\n",
       "      <td>8590867725.75</td>\n",
       "      <td>18234187.85</td>\n",
       "      <td>461698681.34</td>\n",
       "    </tr>\n",
       "    <tr>\n",
       "      <th>min</th>\n",
       "      <td>15973161.00</td>\n",
       "      <td>115026.86</td>\n",
       "      <td>5000000.00</td>\n",
       "    </tr>\n",
       "    <tr>\n",
       "      <th>25%</th>\n",
       "      <td>168712461.00</td>\n",
       "      <td>1403771.64</td>\n",
       "      <td>10000000.00</td>\n",
       "    </tr>\n",
       "    <tr>\n",
       "      <th>50%</th>\n",
       "      <td>1001914865.00</td>\n",
       "      <td>5196347.80</td>\n",
       "      <td>100000000.00</td>\n",
       "    </tr>\n",
       "    <tr>\n",
       "      <th>75%</th>\n",
       "      <td>6868887146.00</td>\n",
       "      <td>19256107.38</td>\n",
       "      <td>1000000000.00</td>\n",
       "    </tr>\n",
       "    <tr>\n",
       "      <th>max</th>\n",
       "      <td>35086024415.00</td>\n",
       "      <td>84359886.95</td>\n",
       "      <td>1000000000.00</td>\n",
       "    </tr>\n",
       "  </tbody>\n",
       "</table>\n",
       "</div>"
      ],
      "text/plain": [
       "                 sum        mean          amax\n",
       "count          33.00       33.00         33.00\n",
       "mean   5079801045.06 12781649.84  408787878.79\n",
       "std    8590867725.75 18234187.85  461698681.34\n",
       "min      15973161.00   115026.86    5000000.00\n",
       "25%     168712461.00  1403771.64   10000000.00\n",
       "50%    1001914865.00  5196347.80  100000000.00\n",
       "75%    6868887146.00 19256107.38 1000000000.00\n",
       "max   35086024415.00 84359886.95 1000000000.00"
      ]
     },
     "execution_count": 52,
     "metadata": {},
     "output_type": "execute_result"
    }
   ],
   "source": [
    "import numpy as np\n",
    "pd.options.display.float_format = '{:.2f}'.format\n",
    "\n",
    "grouped = df.groupby(\"Category\")\n",
    "#np.set_printoptions(suppress=True)\n",
    "\n",
    "#print(grouped[\"Installs\"].agg([np.sum,np.mean,np.max]))\n",
    "h = grouped[\"Installs\"].agg([np.sum,np.mean,np.max])\n",
    "print(h)\n",
    "h.describe()\n"
   ]
  },
  {
   "cell_type": "markdown",
   "metadata": {},
   "source": [
    "# d) Explain your dataset with high-level analysis"
   ]
  },
  {
   "cell_type": "markdown",
   "metadata": {},
   "source": [
    "From the above analysis, \n",
    "1. Family,Games and Tools are the top 3 categories\n",
    "2. GAMES category Apps have highest number of Installs\n",
    "3. EVENTS category has less number of installs"
   ]
  },
  {
   "cell_type": "code",
   "execution_count": null,
   "metadata": {},
   "outputs": [],
   "source": []
  }
 ],
 "metadata": {
  "kernelspec": {
   "display_name": "Python 3",
   "language": "python",
   "name": "python3"
  },
  "language_info": {
   "codemirror_mode": {
    "name": "ipython",
    "version": 3
   },
   "file_extension": ".py",
   "mimetype": "text/x-python",
   "name": "python",
   "nbconvert_exporter": "python",
   "pygments_lexer": "ipython3",
   "version": "3.7.0"
  }
 },
 "nbformat": 4,
 "nbformat_minor": 2
}
